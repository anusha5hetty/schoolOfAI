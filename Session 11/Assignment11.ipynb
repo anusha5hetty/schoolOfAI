{
  "nbformat": 4,
  "nbformat_minor": 0,
  "metadata": {
    "colab": {
      "name": "Assignment11.ipynb",
      "version": "0.3.2",
      "provenance": [],
      "collapsed_sections": [],
      "toc_visible": true
    },
    "kernelspec": {
      "name": "python3",
      "display_name": "Python 3"
    },
    "accelerator": "GPU"
  },
  "cells": [
    {
      "cell_type": "markdown",
      "metadata": {
        "id": "LPz1XS5d-t6p",
        "colab_type": "text"
      },
      "source": [
        "## Import Lib, Data Load & Methods"
      ]
    },
    {
      "cell_type": "code",
      "metadata": {
        "id": "KkwXnw9OfHZl",
        "colab_type": "code",
        "colab": {}
      },
      "source": [
        "from keras import backend as K\n",
        "import time\n",
        "import matplotlib.pyplot as plt\n",
        "import numpy as np\n",
        "% matplotlib inline\n",
        "np.random.seed(2017) \n",
        "from keras import regularizers\n",
        "from keras.models import Sequential\n",
        "from keras.layers.convolutional import Convolution2D, MaxPooling2D,AveragePooling2D\n",
        "from keras.layers import Activation, Flatten, Dense, Dropout\n",
        "from keras.layers.normalization import BatchNormalization\n",
        "from keras.utils import np_utils\n",
        "from keras.preprocessing.image import ImageDataGenerator\n",
        "from keras.callbacks import Callback\n",
        "import cv2"
      ],
      "execution_count": 0,
      "outputs": []
    },
    {
      "cell_type": "code",
      "metadata": {
        "id": "hKKOXPGNZj7C",
        "colab_type": "code",
        "colab": {
          "base_uri": "https://localhost:8080/",
          "height": 184
        },
        "outputId": "8ead9914-d846-48ee-d0c2-f04773f480bb"
      },
      "source": [
        "!pip install h5py\n",
        "\n",
        "from google.colab import drive\n",
        "drive.mount('/content/gdrive')"
      ],
      "execution_count": 132,
      "outputs": [
        {
          "output_type": "stream",
          "text": [
            "Requirement already satisfied: h5py in /usr/local/lib/python3.6/dist-packages (2.8.0)\n",
            "Requirement already satisfied: numpy>=1.7 in /usr/local/lib/python3.6/dist-packages (from h5py) (1.16.4)\n",
            "Requirement already satisfied: six in /usr/local/lib/python3.6/dist-packages (from h5py) (1.12.0)\n",
            "Go to this URL in a browser: https://accounts.google.com/o/oauth2/auth?client_id=947318989803-6bn6qk8qdgf4n4g3pfee6491hc0brc4i.apps.googleusercontent.com&redirect_uri=urn%3Aietf%3Awg%3Aoauth%3A2.0%3Aoob&scope=email%20https%3A%2F%2Fwww.googleapis.com%2Fauth%2Fdocs.test%20https%3A%2F%2Fwww.googleapis.com%2Fauth%2Fdrive%20https%3A%2F%2Fwww.googleapis.com%2Fauth%2Fdrive.photos.readonly%20https%3A%2F%2Fwww.googleapis.com%2Fauth%2Fpeopleapi.readonly&response_type=code\n",
            "\n",
            "Enter your authorization code:\n",
            "··········\n",
            "Mounted at /content/gdrive\n"
          ],
          "name": "stdout"
        }
      ]
    },
    {
      "cell_type": "markdown",
      "metadata": {
        "id": "dqC-wRjn-6_F",
        "colab_type": "text"
      },
      "source": [
        "### Load Data"
      ]
    },
    {
      "cell_type": "code",
      "metadata": {
        "id": "NHpnoCHZfO8g",
        "colab_type": "code",
        "colab": {}
      },
      "source": [
        "from keras.datasets import cifar10\n",
        "(train_features, train_labels), (test_features, test_labels) = cifar10.load_data()\n",
        "num_train, img_rows, img_cols,img_channels =  train_features.shape\n",
        "num_test, _, _, _ =  test_features.shape\n",
        "num_classes = len(np.unique(train_labels))"
      ],
      "execution_count": 0,
      "outputs": []
    },
    {
      "cell_type": "code",
      "metadata": {
        "id": "2R9KHV8A19cw",
        "colab_type": "code",
        "outputId": "882ee768-a47d-472d-9d5c-12439007245c",
        "colab": {
          "base_uri": "https://localhost:8080/",
          "height": 72
        }
      },
      "source": [
        "print (num_classes)\n",
        "print (num_train)\n",
        "print (train_features.shape)"
      ],
      "execution_count": 99,
      "outputs": [
        {
          "output_type": "stream",
          "text": [
            "10\n",
            "50000\n",
            "(50000, 32, 32, 3)\n"
          ],
          "name": "stdout"
        }
      ]
    },
    {
      "cell_type": "code",
      "metadata": {
        "id": "14HyBUXdfS6G",
        "colab_type": "code",
        "outputId": "14c8e3b6-b6b9-41ae-d162-72be8be3fcd7",
        "colab": {
          "base_uri": "https://localhost:8080/",
          "height": 213
        }
      },
      "source": [
        "class_names = ['airplane','automobile','bird','cat','deer',\n",
        "               'dog','frog','horse','ship','truck']\n",
        "fig = plt.figure(figsize=(8,3))\n",
        "for i in range(num_classes):\n",
        "    ax = fig.add_subplot(2, 5, 1 + i, xticks=[], yticks=[])\n",
        "    idx = np.where(train_labels[:]==i)[0]\n",
        "    features_idx = train_features[idx,::]\n",
        "    img_num = np.random.randint(features_idx.shape[0])\n",
        "    im = features_idx[img_num]\n",
        "    ax.set_title(class_names[i])\n",
        "    plt.imshow(im)\n",
        "plt.show()"
      ],
      "execution_count": 4,
      "outputs": [
        {
          "output_type": "display_data",
          "data": {
            "image/png": "[encoded data removed]",
            "text/plain": [
              "<Figure size 576x216 with 10 Axes>"
            ]
          },
          "metadata": {
            "tags": []
          }
        }
      ]
    },
    {
      "cell_type": "markdown",
      "metadata": {
        "id": "mhKTGI_T_B7c",
        "colab_type": "text"
      },
      "source": [
        "### Method: plot_model_history"
      ]
    },
    {
      "cell_type": "code",
      "metadata": {
        "id": "bmfsk76-fadV",
        "colab_type": "code",
        "colab": {}
      },
      "source": [
        "def plot_model_history(model_history):\n",
        "    fig, axs = plt.subplots(1,2,figsize=(15,5))\n",
        "    # summarize history for accuracy\n",
        "    axs[0].plot(range(1,len(model_history.history['acc'])+1),model_history.history['acc'])\n",
        "    axs[0].plot(range(1,len(model_history.history['val_acc'])+1),model_history.history['val_acc'])\n",
        "    axs[0].set_title('Model Accuracy')\n",
        "    axs[0].set_ylabel('Accuracy')\n",
        "    axs[0].set_xlabel('Epoch')\n",
        "    axs[0].set_xticks(np.arange(1,len(model_history.history['acc'])+1),len(model_history.history['acc'])/10)\n",
        "    axs[0].legend(['train', 'val'], loc='best')\n",
        "    # summarize history for loss\n",
        "    axs[1].plot(range(1,len(model_history.history['loss'])+1),model_history.history['loss'])\n",
        "    axs[1].plot(range(1,len(model_history.history['val_loss'])+1),model_history.history['val_loss'])\n",
        "    axs[1].set_title('Model Loss')\n",
        "    axs[1].set_ylabel('Loss')\n",
        "    axs[1].set_xlabel('Epoch')\n",
        "    axs[1].set_xticks(np.arange(1,len(model_history.history['loss'])+1),len(model_history.history['loss'])/10)\n",
        "    axs[1].legend(['train', 'val'], loc='best')\n",
        "    plt.show()"
      ],
      "execution_count": 0,
      "outputs": []
    },
    {
      "cell_type": "markdown",
      "metadata": {
        "id": "wqrET3JN_I-Q",
        "colab_type": "text"
      },
      "source": [
        "### Method: accuracy"
      ]
    },
    {
      "cell_type": "code",
      "metadata": {
        "id": "YJMT4rjgfdZz",
        "colab_type": "code",
        "colab": {}
      },
      "source": [
        "def accuracy(test_x, test_y, model):\n",
        "    result = model.predict(test_x)\n",
        "    predicted_class = np.argmax(result, axis=1)\n",
        "    true_class = np.argmax(test_y, axis=1)\n",
        "    num_correct = np.sum(predicted_class == true_class) \n",
        "    accuracy = float(num_correct)/result.shape[0]\n",
        "    return (accuracy * 100)"
      ],
      "execution_count": 0,
      "outputs": []
    },
    {
      "cell_type": "markdown",
      "metadata": {
        "id": "BQq5lmNj_Lfc",
        "colab_type": "text"
      },
      "source": [
        "### Method: get_random_eraser (Cutout)"
      ]
    },
    {
      "cell_type": "code",
      "metadata": {
        "id": "eF9TwlHk_NJI",
        "colab_type": "code",
        "colab": {}
      },
      "source": [
        "def get_random_eraser(p=0.5, s_l=0.02, s_h=0.4, r_1=0.3, r_2=1/0.3, v_l=0, v_h=255, pixel_level=False):\n",
        "    def eraser(input_img):\n",
        "        img_h, img_w, img_c = input_img.shape\n",
        "        p_1 = np.random.rand()\n",
        "\n",
        "        if p_1 > p:\n",
        "            return input_img\n",
        "\n",
        "        while True:\n",
        "            s = np.random.uniform(s_l, s_h) * img_h * img_w\n",
        "            r = np.random.uniform(r_1, r_2)\n",
        "            w = int(np.sqrt(s / r))\n",
        "            h = int(np.sqrt(s * r))\n",
        "            left = np.random.randint(0, img_w)\n",
        "            top = np.random.randint(0, img_h)\n",
        "\n",
        "            if left + w <= img_w and top + h <= img_h:\n",
        "                break\n",
        "\n",
        "        if pixel_level:\n",
        "            c = np.random.uniform(v_l, v_h, (h, w, img_c))\n",
        "        else:\n",
        "            c = np.random.uniform(v_l, v_h)\n",
        "\n",
        "        input_img[top:top + h, left:left + w, :] = c\n",
        "\n",
        "        return input_img\n",
        "\n",
        "    return eraser"
      ],
      "execution_count": 0,
      "outputs": []
    },
    {
      "cell_type": "markdown",
      "metadata": {
        "id": "OOK9AOJerQtf",
        "colab_type": "text"
      },
      "source": [
        "### Class: LR_Finder"
      ]
    },
    {
      "cell_type": "code",
      "metadata": {
        "id": "0FJIcvt4rH2x",
        "colab_type": "code",
        "colab": {}
      },
      "source": [
        "import math\n",
        "from keras.callbacks import LambdaCallback\n",
        "import keras.backend as K\n",
        "\n",
        "\n",
        "class LRFinder:\n",
        "    \"\"\"\n",
        "    Plots the change of the loss function of a Keras model when the learning rate is exponentially increasing.\n",
        "    See for details:\n",
        "    https://towardsdatascience.com/estimating-optimal-learning-rate-for-a-deep-neural-network-ce32f2556ce0\n",
        "    \"\"\"\n",
        "    def __init__(self, model):\n",
        "        self.model = model\n",
        "        self.losses = []\n",
        "        self.lrs = []\n",
        "        self.best_loss = 1e9\n",
        "\n",
        "    def on_batch_end(self, batch, logs):\n",
        "        # Log the learning rate\n",
        "        lr = K.get_value(self.model.optimizer.lr)\n",
        "        self.lrs.append(lr)\n",
        "\n",
        "        # Log the loss\n",
        "        loss = logs['loss']\n",
        "        self.losses.append(loss)\n",
        "\n",
        "        # Check whether the loss got too large or NaN\n",
        "        if batch > 5 and (math.isnan(loss) or loss > self.best_loss * 4):\n",
        "            self.model.stop_training = True\n",
        "            return\n",
        "\n",
        "        if loss < self.best_loss:\n",
        "            self.best_loss = loss\n",
        "\n",
        "        # Increase the learning rate for the next batch\n",
        "        lr *= self.lr_mult\n",
        "        K.set_value(self.model.optimizer.lr, lr)\n",
        "\n",
        "    def find(self, x_train, y_train, start_lr, end_lr, batch_size=64, epochs=1):\n",
        "        num_batches = epochs * x_train.shape[0] / batch_size\n",
        "        self.lr_mult = (float(end_lr) / float(start_lr)) ** (float(1) / float(num_batches))\n",
        "\n",
        "        # Save weights into a file\n",
        "        self.model.save_weights('tmp.h5')\n",
        "\n",
        "        # Remember the original learning rate\n",
        "        original_lr = K.get_value(self.model.optimizer.lr)\n",
        "\n",
        "        # Set the initial learning rate\n",
        "        K.set_value(self.model.optimizer.lr, start_lr)\n",
        "\n",
        "        callback = LambdaCallback(on_batch_end=lambda batch, logs: self.on_batch_end(batch, logs))\n",
        "\n",
        "        self.model.fit(x_train, y_train,\n",
        "                        batch_size=batch_size, epochs=epochs,\n",
        "                        callbacks=[callback])\n",
        "\n",
        "        # Restore the weights to the state before model fitting\n",
        "        self.model.load_weights('tmp.h5')\n",
        "\n",
        "        # Restore the original learning rate\n",
        "        K.set_value(self.model.optimizer.lr, original_lr)\n",
        "\n",
        "    def find_generator(self, generator, start_lr, end_lr, epochs=1, steps_per_epoch=None, **kw_fit):\n",
        "            if steps_per_epoch is None:\n",
        "                try:\n",
        "                    steps_per_epoch = len(generator)\n",
        "                except (ValueError, NotImplementedError) as e:\n",
        "                    raise e('`steps_per_epoch=None` is only valid for a'\n",
        "                            ' generator based on the '\n",
        "                            '`keras.utils.Sequence`'\n",
        "                            ' class. Please specify `steps_per_epoch` '\n",
        "                            'or use the `keras.utils.Sequence` class.')\n",
        "            self.lr_mult = (float(end_lr) / float(start_lr)) ** (float(1) / float(steps_per_epoch))\n",
        "\n",
        "            # Save weights into a file\n",
        "            self.model.save_weights('tmp.h5')\n",
        "\n",
        "            # Remember the original learning rate\n",
        "            original_lr = K.get_value(self.model.optimizer.lr)\n",
        "\n",
        "            # Set the initial learning rate\n",
        "            K.set_value(self.model.optimizer.lr, start_lr)\n",
        "\n",
        "            callback = LambdaCallback(on_batch_end=lambda batch,\n",
        "                                      logs: self.on_batch_end(batch, logs))\n",
        "\n",
        "            self.model.fit_generator(generator=generator,\n",
        "                                     epochs=epochs,\n",
        "                                     steps_per_epoch=steps_per_epoch,\n",
        "                                     callbacks=[callback],\n",
        "                                     **kw_fit)\n",
        "\n",
        "            # Restore the weights to the state before model fitting\n",
        "            self.model.load_weights('tmp.h5')\n",
        "\n",
        "            # Restore the original learning rate\n",
        "            K.set_value(self.model.optimizer.lr, original_lr)\n",
        "\n",
        "    def plot_loss(self, n_skip_beginning=10, n_skip_end=5):\n",
        "        \"\"\"\n",
        "        Plots the loss.\n",
        "        Parameters:\n",
        "            n_skip_beginning - number of batches to skip on the left.\n",
        "            n_skip_end - number of batches to skip on the right.\n",
        "        \"\"\"\n",
        "        plt.ylabel(\"loss\")\n",
        "        plt.xlabel(\"learning rate (log scale)\")\n",
        "        plt.plot(self.lrs[n_skip_beginning:-n_skip_end], self.losses[n_skip_beginning:-n_skip_end])\n",
        "        plt.xscale('log')\n",
        "\n",
        "    def plot_loss_change(self, sma=1, n_skip_beginning=10, n_skip_end=5, y_lim=(-0.01, 0.01)):\n",
        "        \"\"\"\n",
        "        Plots rate of change of the loss function.\n",
        "        Parameters:\n",
        "            sma - number of batches for simple moving average to smooth out the curve.\n",
        "            n_skip_beginning - number of batches to skip on the left.\n",
        "            n_skip_end - number of batches to skip on the right.\n",
        "            y_lim - limits for the y axis.\n",
        "        \"\"\"\n",
        "        derivatives = self.get_derivatives(sma)[n_skip_beginning:-n_skip_end]\n",
        "        lrs = self.lrs[n_skip_beginning:-n_skip_end]\n",
        "        plt.ylabel(\"rate of loss change\")\n",
        "        plt.xlabel(\"learning rate (log scale)\")\n",
        "        plt.plot(lrs, derivatives)\n",
        "        plt.xscale('log')\n",
        "        plt.ylim(y_lim)\n",
        "\n",
        "    def get_derivatives(self, sma):\n",
        "        assert sma >= 1\n",
        "        derivatives = [0] * sma\n",
        "        for i in range(sma, len(self.lrs)):\n",
        "            derivatives.append((self.losses[i] - self.losses[i - sma]) / sma)\n",
        "        return derivatives\n",
        "\n",
        "    def get_best_lr(self, sma, n_skip_beginning=10, n_skip_end=5):\n",
        "        derivatives = self.get_derivatives(sma)\n",
        "#         best_der_idx = np.argmax(derivatives[n_skip_beginning:-n_skip_end])[0]\n",
        "        best_der_idx = np.argmax(derivatives[n_skip_beginning:-n_skip_end])\n",
        "        return self.lrs[n_skip_beginning:-n_skip_end][best_der_idx]"
      ],
      "execution_count": 0,
      "outputs": []
    },
    {
      "cell_type": "markdown",
      "metadata": {
        "id": "ORyEwpKOdoSv",
        "colab_type": "text"
      },
      "source": [
        "### Method: Get misclassified Images"
      ]
    },
    {
      "cell_type": "code",
      "metadata": {
        "id": "VT_YgOgidnkO",
        "colab_type": "code",
        "colab": {}
      },
      "source": [
        "import random\n",
        "\n",
        "def get_misclassified_images(model, x_test, y_test, num_images=1):\n",
        "  y_pred = model.predict(x_test)\n",
        "\n",
        "  y_pred = np.argmax(np.round(y_pred),axis=1)\n",
        "  print(y_pred[:9])\n",
        "  print(y_test[:9])\n",
        "  \n",
        "  misclassified_img_idx = list(np.where(y_pred!=y_test)[0])\n",
        "\n",
        "  print(misclassified_img_idx[:9])\n",
        "  random_img_idx = random.sample(misclassified_img_idx, num_images)\n",
        "  \n",
        "  lst_img_info = []\n",
        "  \n",
        "  print(\"Found %s incorrect labels\" % (len(misclassified_img_idx)))\n",
        "\n",
        "  for img_idx in random_img_idx:\n",
        "#     img_idx = misclassified_img_idx[i]\n",
        "    img = X_test[img_idx]\n",
        "\n",
        "    dct_img_info = {'image': img, 'prediction': y_pred[img_idx], 'ground_truth': y_test[img_idx]}\n",
        "    lst_img_info.append(dct_img_info)\n",
        "\n",
        "    \n",
        "  return lst_img_info\n"
      ],
      "execution_count": 0,
      "outputs": []
    },
    {
      "cell_type": "markdown",
      "metadata": {
        "id": "9dUCvg1CZxHf",
        "colab_type": "text"
      },
      "source": [
        "## Methods"
      ]
    },
    {
      "cell_type": "markdown",
      "metadata": {
        "id": "fuekduaraGpa",
        "colab_type": "text"
      },
      "source": [
        "### Predict Class: Method that returns class of the image predicted by the model"
      ]
    },
    {
      "cell_type": "code",
      "metadata": {
        "id": "idrnXGLIoRxY",
        "colab_type": "code",
        "colab": {}
      },
      "source": [
        "def predict_class(image, model):\n",
        "  '''\n",
        "  image 4D\n",
        "  '''\n",
        "\n",
        "  y_pred = model.predict(image)\n",
        "\n",
        "  # argmax returns the max value in the array\n",
        "  class_idx = np.argmax(y_pred[0])\n",
        "  print('predicted class: ', class_idx)\n",
        "  return class_idx"
      ],
      "execution_count": 0,
      "outputs": []
    },
    {
      "cell_type": "markdown",
      "metadata": {
        "id": "e83CeQ8vaaYh",
        "colab_type": "text"
      },
      "source": [
        "### Get Convolution Layer Output value"
      ]
    },
    {
      "cell_type": "code",
      "metadata": {
        "id": "F6qWNe7Ks0Iw",
        "colab_type": "code",
        "colab": {}
      },
      "source": [
        "def get_conv_layer_output_value(trained_model, class_output, conv_layer, img_four_dim, num_channels=512):\n",
        "  \"\"\"\n",
        "  num_channels: number of channels in conv_layer selected. \n",
        "  Eg- if o/p of conv layerr is 14x14x512, then num_channels would be 512\n",
        "  \"\"\"\n",
        "  grads = K.gradients(class_output, conv_layer.output)[0]\n",
        "  pooled_grads = K.mean(grads, axis=(0, 1, 2))\n",
        "  iterate = K.function([trained_model.input], [pooled_grads, conv_layer.output[0]])\n",
        "  pooled_grads_value, conv_layer_output_value = iterate([img_four_dim])\n",
        "  for i in range(num_channels):\n",
        "      conv_layer_output_value[:, :, i] *= pooled_grads_value[i]\n",
        "  return conv_layer_output_value"
      ],
      "execution_count": 0,
      "outputs": []
    },
    {
      "cell_type": "markdown",
      "metadata": {
        "id": "gPRCIiSVajvg",
        "colab_type": "text"
      },
      "source": [
        "### Get Heatmap"
      ]
    },
    {
      "cell_type": "code",
      "metadata": {
        "id": "Tzh-_oUDtWh7",
        "colab_type": "code",
        "colab": {}
      },
      "source": [
        "def get_heatmap(conv_layer_output_value, axis=1):\n",
        "  heatmap = np.mean(conv_layer_output_value, axis=-1)\n",
        "  heatmap = np.maximum(heatmap, 0)\n",
        "  heatmap /= np.max(heatmap)\n",
        "  return heatmap"
      ],
      "execution_count": 0,
      "outputs": []
    },
    {
      "cell_type": "markdown",
      "metadata": {
        "id": "jWkhqxG6anFu",
        "colab_type": "text"
      },
      "source": [
        "### Convert nparray to PNG"
      ]
    },
    {
      "cell_type": "code",
      "metadata": {
        "id": "5ZyQCBLuTxt_",
        "colab_type": "code",
        "colab": {}
      },
      "source": [
        "import cv2\n",
        "\n",
        "from keras.preprocessing import image\n",
        "from google.colab.patches import cv2_imshow\n",
        "\n",
        "\n",
        "def convert_to_png(image_3dim):\n",
        "  '''\n",
        "  accepts 3D image\n",
        "  '''\n",
        "  converted_img = image.image.array_to_img(image_3dim)\n",
        "  converted_img.save('gdrive/My Drive/Colab Notebooks/Session9/test1.png')\n",
        "  loaded_img = cv2.imread('gdrive/My Drive/Colab Notebooks/Session9/test1.png')\n",
        "  return loaded_img"
      ],
      "execution_count": 0,
      "outputs": []
    },
    {
      "cell_type": "markdown",
      "metadata": {
        "id": "ZuSHE4oWaujz",
        "colab_type": "text"
      },
      "source": [
        "### Display Image with HeatSigns\n",
        "method: display_img(image, heatmap)"
      ]
    },
    {
      "cell_type": "code",
      "metadata": {
        "id": "2AyaaydJtfxY",
        "colab_type": "code",
        "colab": {}
      },
      "source": [
        "def display_img_and_heatmap(image, heatmap):\n",
        "  '''\n",
        "  accepts png\n",
        "  '''\n",
        "  \n",
        "  heatmap = cv2.resize(heatmap, (image.shape[1], image.shape[0]))\n",
        "  heatmap = np.uint8(255 * heatmap)\n",
        "  heatmap = cv2.applyColorMap(heatmap, cv2.COLORMAP_JET)\n",
        "  \n",
        "  superimposed_img = cv2.addWeighted(image, 0.5, heatmap, 0.5, 0)\n",
        "  \n",
        "  fig = plt.figure(figsize=(8,8))\n",
        "  ax = fig.add_subplot(1, 2, 1, xticks=[], yticks=[])\n",
        "  plt.imshow(image)\n",
        "  plt.show()\n",
        "  plt.imshow(superimposed_img)\n",
        "  ax = fig.add_subplot(1, 2, 2, xticks=[], yticks=[])\n",
        "\n",
        "  plt.show()"
      ],
      "execution_count": 0,
      "outputs": []
    },
    {
      "cell_type": "code",
      "metadata": {
        "id": "rzDYXgz0DTL_",
        "colab_type": "code",
        "colab": {}
      },
      "source": [
        "def display_img(image, heatmap):\n",
        "  '''\n",
        "  accepts png\n",
        "  '''\n",
        "  \n",
        "  heatmap = cv2.resize(heatmap, (image.shape[1], image.shape[0]))\n",
        "  heatmap = np.uint8(255 * heatmap)\n",
        "  heatmap = cv2.applyColorMap(heatmap, cv2.COLORMAP_JET)\n",
        "  \n",
        "  superimposed_img = cv2.addWeighted(image, 0.5, heatmap, 0.5, 0)\n",
        "  \n",
        "  fig = plt.figure(figsize=(3,3))\n",
        "#   ax = fig.add_subplot(1, 2, 1, xticks=[], yticks=[])\n",
        "#   plt.imshow(image)\n",
        "#   plt.show()\n",
        "  plt.imshow(superimposed_img)\n",
        "#   ax = fig.add_subplot(1, 2, 1, xticks=[], yticks=[])\n",
        "\n",
        "  plt.show()"
      ],
      "execution_count": 0,
      "outputs": []
    },
    {
      "cell_type": "markdown",
      "metadata": {
        "id": "F7J9G4WVa21B",
        "colab_type": "text"
      },
      "source": [
        "### Wrapper of all the methods - display_test_img_with_heat_signs"
      ]
    },
    {
      "cell_type": "code",
      "metadata": {
        "id": "gD8FgbpkS70a",
        "colab_type": "code",
        "colab": {}
      },
      "source": [
        "def display_test_img_with_heat_signs(test_img, preprocessed_img, trained_model, conv_layer, class_idx, num_channels=512):\n",
        "  \"\"\"\n",
        "  preprocessed_img: 4 dimensional image, with batch size (as model is trained in batches)\n",
        "  \n",
        "  \"\"\"\n",
        "  class_output = trained_model.output[:, class_idx]\n",
        "  conv_layer_output_value = get_conv_layer_output_value(trained_model, class_output, conv_layer, preprocessed_img, num_channels)\n",
        "  \n",
        "  heatmap = get_heatmap(conv_layer_output_value)\n",
        "  \n",
        "  png_img = convert_to_png(test_img)\n",
        "  \n",
        "  display_img_and_heatmap(png_img, heatmap)"
      ],
      "execution_count": 0,
      "outputs": []
    },
    {
      "cell_type": "markdown",
      "metadata": {
        "id": "WBUnkhtVDHLo",
        "colab_type": "text"
      },
      "source": [
        "### display_heatsigns_on_img"
      ]
    },
    {
      "cell_type": "code",
      "metadata": {
        "id": "zXmVMdQsDFEI",
        "colab_type": "code",
        "colab": {}
      },
      "source": [
        "def display_heatsigns_on_img(test_img, preprocessed_img, trained_model, conv_layer, class_idx, num_channels=512):\n",
        "  \"\"\"\n",
        "  preprocessed_img: 4 dimensional image, with batch size (as model is trained in batches)\n",
        "  \n",
        "  \"\"\"\n",
        "  class_output = trained_model.output[:, class_idx]\n",
        "  conv_layer_output_value = get_conv_layer_output_value(trained_model, class_output, conv_layer, preprocessed_img, num_channels)\n",
        "  \n",
        "  heatmap = get_heatmap(conv_layer_output_value)\n",
        "  \n",
        "  png_img = convert_to_png(test_img)\n",
        "  \n",
        "  display_img(png_img, heatmap)"
      ],
      "execution_count": 0,
      "outputs": []
    },
    {
      "cell_type": "markdown",
      "metadata": {
        "id": "FH0Hu5DRboRs",
        "colab_type": "text"
      },
      "source": [
        "### Get Image From URL"
      ]
    },
    {
      "cell_type": "code",
      "metadata": {
        "id": "tYRsT4HBahPH",
        "colab_type": "code",
        "colab": {}
      },
      "source": [
        "import io as lib_io\n",
        "import urllib.request\n",
        "from PIL import Image\n",
        "\n",
        "\n",
        "def get_img_from_url(url):\n",
        "  req = urllib.request.Request(\n",
        "    url, \n",
        "    data=None, \n",
        "    headers={'User-Agent': 'Mozilla/5.0 (Macintosh; Intel Mac OS X 10_9_3) AppleWebKit/537.36 (KHTML, like Gecko) Chrome/35.0.1916.47 Safari/537.36'\n",
        "    }\n",
        "    )\n",
        "\n",
        "  f = urllib.request.urlopen(req)\n",
        "  bytes1 = bytearray(f.read())\n",
        "\n",
        "  img = Image.open(lib_io.BytesIO(bytes1))\n",
        "  print(type(img))\n",
        "\n",
        "  img.save('gdrive/My Drive/Colab Notebooks/Session10/temp.png')\n",
        "  img_from_drive = cv2.imread('gdrive/My Drive/Colab Notebooks/Session10/temp.png')\n",
        "  return img_from_drive\n",
        "  \n",
        "  "
      ],
      "execution_count": 0,
      "outputs": []
    },
    {
      "cell_type": "markdown",
      "metadata": {
        "id": "Txjk6qoQfeza",
        "colab_type": "text"
      },
      "source": [
        "### Preprocess Image for VGG"
      ]
    },
    {
      "cell_type": "code",
      "metadata": {
        "id": "AUqmLPzdfIF7",
        "colab_type": "code",
        "colab": {}
      },
      "source": [
        "from keras.preprocessing import image\n",
        "\n",
        "def preprocess_img_for_vgg(img):\n",
        "  img = cv2.resize(img, dsize=(224, 224), interpolation=cv2.INTER_CUBIC)\n",
        "  x = image.img_to_array(img)\n",
        "  x = np.expand_dims(x, axis=0)\n",
        "  x = preprocess_input(x)\n",
        "  \n",
        "  return img, x"
      ],
      "execution_count": 0,
      "outputs": []
    },
    {
      "cell_type": "markdown",
      "metadata": {
        "id": "RVb-EQmxiaJG",
        "colab_type": "text"
      },
      "source": [
        "### Preprocess Image"
      ]
    },
    {
      "cell_type": "code",
      "metadata": {
        "id": "qZURQZvvh92_",
        "colab_type": "code",
        "colab": {}
      },
      "source": [
        "from keras.preprocessing import image\n",
        "\n",
        "def preprocess_img(img, dim_x, dim_y):\n",
        "  img = cv2.resize(img, dsize=(dim_x, dim_y), interpolation=cv2.INTER_CUBIC)\n",
        "  img4d = image.img_to_array(img)\n",
        "  img4d = np.expand_dims(img4d, axis=0)\n",
        "  \n",
        "  return img, img4d"
      ],
      "execution_count": 0,
      "outputs": []
    },
    {
      "cell_type": "code",
      "metadata": {
        "id": "T5c5nDvxm6zR",
        "colab_type": "code",
        "colab": {}
      },
      "source": [
        "train_features = train_features.astype('float32')/255\n",
        "test_features = test_features.astype('float32')/255\n",
        "# convert class labels to binary class labels\n",
        "train_labels = np_utils.to_categorical(train_labels, num_classes)\n",
        "test_labels = np_utils.to_categorical(test_labels, num_classes)"
      ],
      "execution_count": 0,
      "outputs": []
    },
    {
      "cell_type": "code",
      "metadata": {
        "id": "9upyHvwj3JhG",
        "colab_type": "code",
        "outputId": "4baade51-40f1-4504-a873-520326976529",
        "colab": {
          "base_uri": "https://localhost:8080/",
          "height": 146
        }
      },
      "source": [
        "train_labels"
      ],
      "execution_count": 106,
      "outputs": [
        {
          "output_type": "execute_result",
          "data": {
            "text/plain": [
              "array([[0., 0., 0., ..., 0., 0., 0.],\n",
              "       [0., 0., 0., ..., 0., 0., 1.],\n",
              "       [0., 0., 0., ..., 0., 0., 1.],\n",
              "       ...,\n",
              "       [0., 0., 0., ..., 0., 0., 1.],\n",
              "       [0., 1., 0., ..., 0., 0., 0.],\n",
              "       [0., 1., 0., ..., 0., 0., 0.]], dtype=float32)"
            ]
          },
          "metadata": {
            "tags": []
          },
          "execution_count": 106
        }
      ]
    },
    {
      "cell_type": "markdown",
      "metadata": {
        "id": "EcDAmHvv-ZLK",
        "colab_type": "text"
      },
      "source": [
        "## Base Code"
      ]
    },
    {
      "cell_type": "markdown",
      "metadata": {
        "id": "JBCsNjCWXKsk",
        "colab_type": "text"
      },
      "source": [
        "### Base Accuracy is 83.8% achieved at 95th epoch"
      ]
    },
    {
      "cell_type": "markdown",
      "metadata": {
        "id": "c2wbW6Br8nPs",
        "colab_type": "text"
      },
      "source": [
        "### The model above shows some amount of overfitting and this would require some kind of regularization.\n",
        "### Re-Running the model with below changes \n",
        "1. Using Image Normalization\n",
        "2. Making use of Batch Normalization\n",
        "3. Making use of L2 Regularizer\n",
        "4. Properly using Dropout\n",
        "5. Removed Dense layers\n",
        "6. Overall reduced number of parameters from 1,172,410 to 290,090\n",
        "\n",
        "### Results: Achieved a better accuracy of 84.33 % in just 15th Epoch. Ran the model further and achieved 86.36 % in 45th Epoch & 87.53 % in 89th Epoch"
      ]
    },
    {
      "cell_type": "code",
      "metadata": {
        "id": "e5U2c0unqgdP",
        "colab_type": "code",
        "outputId": "1c3d2df2-901b-4273-da0b-a322cc02e36d",
        "colab": {
          "base_uri": "https://localhost:8080/",
          "height": 72
        }
      },
      "source": [
        "# load dataset\n",
        "(trainX, trainy), (testX, testy) = cifar10.load_data()\n",
        "\n",
        "\n",
        "print('Statistics train=%.3f (%.3f), test=%.3f (%.3f)' % (trainX.mean(), trainX.std(), testX.mean(), testX.std()))\n",
        "\n",
        "# create generator that centers pixel values\n",
        "datagen = ImageDataGenerator(featurewise_center=True, featurewise_std_normalization=True)\n",
        "\n",
        "# calculate the mean on the training dataset\n",
        "datagen.fit(trainX)\n",
        "#print('Data Generator mean=%.3f, std=%.3f' % (datagen.mean, datagen.std))\n",
        "\n",
        "# demonstrate effect on a single batch of samples\n",
        "iterator = datagen.flow(trainX, trainy, batch_size=128)\n",
        "\n",
        "# get a batch\n",
        "batchX, batchy = iterator.next()\n",
        "\n",
        "# pixel stats in the batch\n",
        "print(batchX.shape, batchX.mean(), batchX.std())\n",
        "\n",
        "# demonstrate effect on entire training dataset\n",
        "iterator = datagen.flow(trainX, trainy, batch_size=len(trainX), shuffle=False)\n",
        "\n",
        "# get a batch\n",
        "batchX, batchy = iterator.next()\n",
        "\n",
        "# pixel stats in the batch\n",
        "print(batchX.shape, batchX.mean(), batchX.std())"
      ],
      "execution_count": 13,
      "outputs": [
        {
          "output_type": "stream",
          "text": [
            "Statistics train=120.708 (64.150), test=121.529 (64.061)\n",
            "(128, 32, 32, 3) 0.013107389 1.0013419\n",
            "(50000, 32, 32, 3) -1.6605131e-06 1.0000001\n"
          ],
          "name": "stdout"
        }
      ]
    },
    {
      "cell_type": "code",
      "metadata": {
        "id": "D-eJt3EDq1g5",
        "colab_type": "code",
        "colab": {}
      },
      "source": [
        "iterator1 = datagen.flow(testX, testy, batch_size=len(testX), shuffle=False)\n",
        "batch_testX, batch_testy = iterator1.next()\n",
        "\n",
        "X_train = batchX\n",
        "X_test = batch_testX\n",
        "\n",
        "y_train=batchy\n",
        "y_test=batch_testy\n",
        "                        "
      ],
      "execution_count": 0,
      "outputs": []
    },
    {
      "cell_type": "code",
      "metadata": {
        "id": "av2re-bNrBnY",
        "colab_type": "code",
        "colab": {}
      },
      "source": [
        "# Convert 1-dimensional class arrays to 10-dimensional class matrices\n",
        "Y_train = np_utils.to_categorical(y_train, 10)\n",
        "Y_test = np_utils.to_categorical(y_test, 10)"
      ],
      "execution_count": 0,
      "outputs": []
    },
    {
      "cell_type": "code",
      "metadata": {
        "id": "z3d05MXp7qXD",
        "colab_type": "code",
        "colab": {}
      },
      "source": [
        "def func_model():\n",
        "\n",
        "  # Define the model\n",
        "  model1 = Sequential()\n",
        "  model1.add(Convolution2D(32, 3, 3, border_mode='same',kernel_regularizer=regularizers.l2(0.0001), input_shape=(32, 32, 3)))\n",
        "  model1.add(Activation('relu'))\n",
        "  model1.add(BatchNormalization())\n",
        "\n",
        "  model1.add(Convolution2D(64, 3, 3,kernel_regularizer=regularizers.l2(0.0001),border_mode='same'))\n",
        "  model1.add(Activation('relu'))\n",
        "  model1.add(BatchNormalization())\n",
        "\n",
        "  model1.add(MaxPooling2D(pool_size=(2, 2)))\n",
        "  model1.add(Dropout(0.2))\n",
        "\n",
        "  model1.add(Convolution2D(32, 1, 1))\n",
        "\n",
        "\n",
        "  model1.add(Convolution2D(64, 3, 3,kernel_regularizer=regularizers.l2(0.0001),border_mode='same'))\n",
        "  model1.add(Activation('relu'))\n",
        "  model1.add(BatchNormalization())\n",
        "\n",
        "  model1.add(Convolution2D(128, 3, 3,kernel_regularizer=regularizers.l2(0.0001),border_mode='same'))\n",
        "  model1.add(Activation('relu'))\n",
        "  model1.add(BatchNormalization())\n",
        "\n",
        "  model1.add(MaxPooling2D(pool_size=(2, 2)))\n",
        "  model1.add(Dropout(0.3))\n",
        "\n",
        "  model1.add(Convolution2D(32, 1, 1))\n",
        "\n",
        "\n",
        "  model1.add(Convolution2D(128, 3, 3,kernel_regularizer=regularizers.l2(0.0001), border_mode='same'))\n",
        "  model1.add(Activation('relu'))\n",
        "  model1.add(BatchNormalization())\n",
        "\n",
        "  model1.add(Convolution2D(256, 3, 3,kernel_regularizer=regularizers.l2(0.0001), border_mode='same'))\n",
        "  model1.add(Activation('relu'))\n",
        "  model1.add(BatchNormalization())\n",
        "\n",
        "  model1.add(MaxPooling2D(pool_size=(2, 2)))\n",
        "  model1.add(Dropout(0.5))\n",
        "\n",
        "  model1.add(Convolution2D(10, 1, 1))\n",
        "\n",
        "  model1.add(AveragePooling2D(pool_size = (4,4)))\n",
        "  model1.add(Flatten())\n",
        "\n",
        "\n",
        "  model1.add(Activation('softmax'))\n",
        "  \n",
        "  return model1"
      ],
      "execution_count": 0,
      "outputs": []
    },
    {
      "cell_type": "code",
      "metadata": {
        "id": "hCz8GzjFWias",
        "colab_type": "code",
        "colab": {
          "base_uri": "https://localhost:8080/",
          "height": 257
        },
        "outputId": "afbc85c1-9869-4012-b8e0-2e8457ad358a"
      },
      "source": [
        "model1 = func_model()\n",
        "\n",
        "# Compile the model\n",
        "model1.compile(optimizer='adam', loss='categorical_crossentropy', metrics=['accuracy'])\n"
      ],
      "execution_count": 127,
      "outputs": [
        {
          "output_type": "stream",
          "text": [
            "/usr/local/lib/python3.6/dist-packages/ipykernel_launcher.py:5: UserWarning: Update your `Conv2D` call to the Keras 2 API: `Conv2D(32, (3, 3), kernel_regularizer=<keras.reg..., input_shape=(32, 32, 3..., padding=\"same\")`\n",
            "  \"\"\"\n",
            "/usr/local/lib/python3.6/dist-packages/ipykernel_launcher.py:9: UserWarning: Update your `Conv2D` call to the Keras 2 API: `Conv2D(64, (3, 3), kernel_regularizer=<keras.reg..., padding=\"same\")`\n",
            "  if __name__ == '__main__':\n",
            "/usr/local/lib/python3.6/dist-packages/ipykernel_launcher.py:16: UserWarning: Update your `Conv2D` call to the Keras 2 API: `Conv2D(32, (1, 1))`\n",
            "  app.launch_new_instance()\n",
            "/usr/local/lib/python3.6/dist-packages/ipykernel_launcher.py:19: UserWarning: Update your `Conv2D` call to the Keras 2 API: `Conv2D(64, (3, 3), kernel_regularizer=<keras.reg..., padding=\"same\")`\n",
            "/usr/local/lib/python3.6/dist-packages/ipykernel_launcher.py:23: UserWarning: Update your `Conv2D` call to the Keras 2 API: `Conv2D(128, (3, 3), kernel_regularizer=<keras.reg..., padding=\"same\")`\n",
            "/usr/local/lib/python3.6/dist-packages/ipykernel_launcher.py:30: UserWarning: Update your `Conv2D` call to the Keras 2 API: `Conv2D(32, (1, 1))`\n",
            "/usr/local/lib/python3.6/dist-packages/ipykernel_launcher.py:33: UserWarning: Update your `Conv2D` call to the Keras 2 API: `Conv2D(128, (3, 3), kernel_regularizer=<keras.reg..., padding=\"same\")`\n",
            "/usr/local/lib/python3.6/dist-packages/ipykernel_launcher.py:37: UserWarning: Update your `Conv2D` call to the Keras 2 API: `Conv2D(256, (3, 3), kernel_regularizer=<keras.reg..., padding=\"same\")`\n",
            "/usr/local/lib/python3.6/dist-packages/ipykernel_launcher.py:44: UserWarning: Update your `Conv2D` call to the Keras 2 API: `Conv2D(10, (1, 1))`\n"
          ],
          "name": "stderr"
        }
      ]
    },
    {
      "cell_type": "code",
      "metadata": {
        "id": "AUhWT47O7qlt",
        "colab_type": "code",
        "colab": {
          "base_uri": "https://localhost:8080/",
          "height": 1000
        },
        "outputId": "c7bad9dc-a523-44c4-fe8f-075796d3d364"
      },
      "source": [
        "model1.summary()"
      ],
      "execution_count": 110,
      "outputs": [
        {
          "output_type": "stream",
          "text": [
            "_________________________________________________________________\n",
            "Layer (type)                 Output Shape              Param #   \n",
            "=================================================================\n",
            "conv2d_73 (Conv2D)           (None, 32, 32, 32)        896       \n",
            "_________________________________________________________________\n",
            "activation_57 (Activation)   (None, 32, 32, 32)        0         \n",
            "_________________________________________________________________\n",
            "batch_normalization_49 (Batc (None, 32, 32, 32)        128       \n",
            "_________________________________________________________________\n",
            "conv2d_74 (Conv2D)           (None, 32, 32, 64)        18496     \n",
            "_________________________________________________________________\n",
            "activation_58 (Activation)   (None, 32, 32, 64)        0         \n",
            "_________________________________________________________________\n",
            "batch_normalization_50 (Batc (None, 32, 32, 64)        256       \n",
            "_________________________________________________________________\n",
            "max_pooling2d_25 (MaxPooling (None, 16, 16, 64)        0         \n",
            "_________________________________________________________________\n",
            "dropout_25 (Dropout)         (None, 16, 16, 64)        0         \n",
            "_________________________________________________________________\n",
            "conv2d_75 (Conv2D)           (None, 16, 16, 32)        2080      \n",
            "_________________________________________________________________\n",
            "conv2d_76 (Conv2D)           (None, 16, 16, 64)        18496     \n",
            "_________________________________________________________________\n",
            "activation_59 (Activation)   (None, 16, 16, 64)        0         \n",
            "_________________________________________________________________\n",
            "batch_normalization_51 (Batc (None, 16, 16, 64)        256       \n",
            "_________________________________________________________________\n",
            "conv2d_77 (Conv2D)           (None, 16, 16, 128)       73856     \n",
            "_________________________________________________________________\n",
            "activation_60 (Activation)   (None, 16, 16, 128)       0         \n",
            "_________________________________________________________________\n",
            "batch_normalization_52 (Batc (None, 16, 16, 128)       512       \n",
            "_________________________________________________________________\n",
            "max_pooling2d_26 (MaxPooling (None, 8, 8, 128)         0         \n",
            "_________________________________________________________________\n",
            "dropout_26 (Dropout)         (None, 8, 8, 128)         0         \n",
            "_________________________________________________________________\n",
            "conv2d_78 (Conv2D)           (None, 8, 8, 32)          4128      \n",
            "_________________________________________________________________\n",
            "conv2d_79 (Conv2D)           (None, 8, 8, 128)         36992     \n",
            "_________________________________________________________________\n",
            "activation_61 (Activation)   (None, 8, 8, 128)         0         \n",
            "_________________________________________________________________\n",
            "batch_normalization_53 (Batc (None, 8, 8, 128)         512       \n",
            "_________________________________________________________________\n",
            "conv2d_80 (Conv2D)           (None, 8, 8, 256)         295168    \n",
            "_________________________________________________________________\n",
            "activation_62 (Activation)   (None, 8, 8, 256)         0         \n",
            "_________________________________________________________________\n",
            "batch_normalization_54 (Batc (None, 8, 8, 256)         1024      \n",
            "_________________________________________________________________\n",
            "max_pooling2d_27 (MaxPooling (None, 4, 4, 256)         0         \n",
            "_________________________________________________________________\n",
            "dropout_27 (Dropout)         (None, 4, 4, 256)         0         \n",
            "_________________________________________________________________\n",
            "conv2d_81 (Conv2D)           (None, 4, 4, 10)          2570      \n",
            "_________________________________________________________________\n",
            "average_pooling2d_9 (Average (None, 1, 1, 10)          0         \n",
            "_________________________________________________________________\n",
            "flatten_9 (Flatten)          (None, 10)                0         \n",
            "_________________________________________________________________\n",
            "activation_63 (Activation)   (None, 10)                0         \n",
            "=================================================================\n",
            "Total params: 455,370\n",
            "Trainable params: 454,026\n",
            "Non-trainable params: 1,344\n",
            "_________________________________________________________________\n"
          ],
          "name": "stdout"
        }
      ]
    },
    {
      "cell_type": "markdown",
      "metadata": {
        "id": "cGAT_BcY-da2",
        "colab_type": "text"
      },
      "source": [
        "### Total params: 455,370"
      ]
    },
    {
      "cell_type": "code",
      "metadata": {
        "id": "4gPfvAi-8nwk",
        "colab_type": "code",
        "colab": {}
      },
      "source": [
        "from keras.preprocessing.image import ImageDataGenerator\n",
        "\n",
        "datagen = ImageDataGenerator(zoom_range=0.0, \n",
        "                             horizontal_flip=False)\n",
        "\n",
        "\n",
        "# train the model\n",
        "start = time.time()\n",
        "# Train the model\n",
        "model_info = model1.fit_generator(datagen.flow(X_train, Y_train, batch_size = 128),\n",
        "                                 samples_per_epoch = train_features.shape[0], nb_epoch = 50, \n",
        "                                 validation_data = (X_test, Y_test), verbose=1)\n",
        "end = time.time()\n",
        "print (\"Model took %0.2f seconds to train\"%(end - start))\n",
        "# plot model history\n",
        "plot_model_history(model_info)\n",
        "# compute test accuracy\n",
        "print (\"Accuracy on test data is: %0.2f\"%accuracy(X_test, Y_test, model1))"
      ],
      "execution_count": 0,
      "outputs": []
    },
    {
      "cell_type": "markdown",
      "metadata": {
        "id": "y3V-Z_Rx_zdB",
        "colab_type": "text"
      },
      "source": [
        "### Achieved 86.36 % in 45th Epoch."
      ]
    },
    {
      "cell_type": "markdown",
      "metadata": {
        "id": "iE6LswCe_Zm-",
        "colab_type": "text"
      },
      "source": [
        "### Ran for 50 more epochs and achieved 87.53 % as shown below in 39th epoch (total 89th epoch)"
      ]
    },
    {
      "cell_type": "code",
      "metadata": {
        "id": "2TSbOqSex5jM",
        "colab_type": "code",
        "colab": {}
      },
      "source": [
        "from keras.preprocessing.image import ImageDataGenerator\n",
        "\n",
        "datagen = ImageDataGenerator(zoom_range=0.0, \n",
        "                             horizontal_flip=False)\n",
        "\n",
        "\n",
        "# train the model\n",
        "start = time.time()\n",
        "# Train the model\n",
        "model_info = model1.fit_generator(datagen.flow(X_train, Y_train, batch_size = 128),\n",
        "                                 samples_per_epoch = train_features.shape[0], nb_epoch = 50, \n",
        "                                 validation_data = (X_test, Y_test), verbose=1)\n",
        "end = time.time()\n",
        "print (\"Model took %0.2f seconds to train\"%(end - start))\n",
        "# plot model history\n",
        "plot_model_history(model_info)\n",
        "# compute test accuracy\n",
        "print (\"Accuracy on test data is: %0.2f\"%accuracy(X_test, Y_test, model1))"
      ],
      "execution_count": 0,
      "outputs": []
    },
    {
      "cell_type": "markdown",
      "metadata": {
        "id": "bC4zhHFO-i1D",
        "colab_type": "text"
      },
      "source": [
        "## Assignment"
      ]
    },
    {
      "cell_type": "markdown",
      "metadata": {
        "id": "IBe-2JjrVpUB",
        "colab_type": "text"
      },
      "source": [
        "### Get BEST Learning Rate\n",
        "\n",
        "The best learning rate found is 0.017600462"
      ]
    },
    {
      "cell_type": "code",
      "metadata": {
        "id": "ltdjgVl_W5yA",
        "colab_type": "code",
        "colab": {
          "base_uri": "https://localhost:8080/",
          "height": 257
        },
        "outputId": "65d2014b-3b44-4580-a965-cdadc81a5dde"
      },
      "source": [
        "model1 = func_model()\n",
        "\n",
        "# Compile the model\n",
        "model1.compile(optimizer='adam', loss='categorical_crossentropy', metrics=['accuracy'])"
      ],
      "execution_count": 128,
      "outputs": [
        {
          "output_type": "stream",
          "text": [
            "/usr/local/lib/python3.6/dist-packages/ipykernel_launcher.py:5: UserWarning: Update your `Conv2D` call to the Keras 2 API: `Conv2D(32, (3, 3), kernel_regularizer=<keras.reg..., input_shape=(32, 32, 3..., padding=\"same\")`\n",
            "  \"\"\"\n",
            "/usr/local/lib/python3.6/dist-packages/ipykernel_launcher.py:9: UserWarning: Update your `Conv2D` call to the Keras 2 API: `Conv2D(64, (3, 3), kernel_regularizer=<keras.reg..., padding=\"same\")`\n",
            "  if __name__ == '__main__':\n",
            "/usr/local/lib/python3.6/dist-packages/ipykernel_launcher.py:16: UserWarning: Update your `Conv2D` call to the Keras 2 API: `Conv2D(32, (1, 1))`\n",
            "  app.launch_new_instance()\n",
            "/usr/local/lib/python3.6/dist-packages/ipykernel_launcher.py:19: UserWarning: Update your `Conv2D` call to the Keras 2 API: `Conv2D(64, (3, 3), kernel_regularizer=<keras.reg..., padding=\"same\")`\n",
            "/usr/local/lib/python3.6/dist-packages/ipykernel_launcher.py:23: UserWarning: Update your `Conv2D` call to the Keras 2 API: `Conv2D(128, (3, 3), kernel_regularizer=<keras.reg..., padding=\"same\")`\n",
            "/usr/local/lib/python3.6/dist-packages/ipykernel_launcher.py:30: UserWarning: Update your `Conv2D` call to the Keras 2 API: `Conv2D(32, (1, 1))`\n",
            "/usr/local/lib/python3.6/dist-packages/ipykernel_launcher.py:33: UserWarning: Update your `Conv2D` call to the Keras 2 API: `Conv2D(128, (3, 3), kernel_regularizer=<keras.reg..., padding=\"same\")`\n",
            "/usr/local/lib/python3.6/dist-packages/ipykernel_launcher.py:37: UserWarning: Update your `Conv2D` call to the Keras 2 API: `Conv2D(256, (3, 3), kernel_regularizer=<keras.reg..., padding=\"same\")`\n",
            "/usr/local/lib/python3.6/dist-packages/ipykernel_launcher.py:44: UserWarning: Update your `Conv2D` call to the Keras 2 API: `Conv2D(10, (1, 1))`\n"
          ],
          "name": "stderr"
        }
      ]
    },
    {
      "cell_type": "code",
      "metadata": {
        "id": "1CnoQzQNRtpX",
        "colab_type": "code",
        "colab": {
          "base_uri": "https://localhost:8080/",
          "height": 110
        },
        "outputId": "0f3b23d9-5148-4c0f-98aa-437f4cd660fb"
      },
      "source": [
        "datagen = ImageDataGenerator(zoom_range=0.0, \n",
        "                             horizontal_flip=False,\n",
        "                            preprocessing_function=get_random_eraser(v_l=0, v_h=1))\n",
        "\n",
        "lr_finder = LRFinder(model1)\n",
        "bs = 64\n",
        "epoch = 5\n",
        "\n",
        "# train the model\n",
        "start = time.time()\n",
        "# Train the model\n",
        "\n",
        "\n",
        "model_info = lr_finder.find_generator(datagen.flow(X_train, Y_train, batch_size = bs),\n",
        "                                      start_lr=0.0001, end_lr=1, epochs=5,\n",
        "                                 samples_per_epoch = train_features.shape[0],\n",
        "                                 validation_data=(X_test, Y_test), verbose=1)\n",
        "end = time.time()\n",
        "print (\"Model took %0.2f seconds to train\"%(end - start))\n",
        "\n",
        "# compute test accuracy\n",
        "print (\"Accuracy on test data is: %0.2f\"%accuracy(X_test, Y_test, model1))"
      ],
      "execution_count": 118,
      "outputs": [
        {
          "output_type": "stream",
          "text": [
            "/usr/local/lib/python3.6/dist-packages/ipykernel_launcher.py:92: UserWarning: Update your `fit_generator` call to the Keras 2 API: `fit_generator(generator=<keras_pre..., epochs=5, steps_per_epoch=781, callbacks=[<keras.ca..., validation_data=(array([[[..., verbose=1)`\n"
          ],
          "name": "stderr"
        },
        {
          "output_type": "stream",
          "text": [
            "Epoch 1/5\n",
            "667/781 [========================>.....] - ETA: 8s - loss: 1.8866 - acc: 0.3595Model took 64.69 seconds to train\n",
            "Accuracy on test data is: 10.00\n"
          ],
          "name": "stdout"
        }
      ]
    },
    {
      "cell_type": "code",
      "metadata": {
        "id": "1YB52xvSUUdZ",
        "colab_type": "code",
        "colab": {
          "base_uri": "https://localhost:8080/",
          "height": 287
        },
        "outputId": "cc4a422e-66fb-4203-d122-1489ef500197"
      },
      "source": [
        "# Plot the loss, ignore 20 batches in the beginning and 5 in the end\n",
        "lr_finder.plot_loss(n_skip_beginning=20, n_skip_end=5)"
      ],
      "execution_count": 120,
      "outputs": [
        {
          "output_type": "display_data",
          "data": {
            "image/png": "[encoded data removed]",
            "text/plain": [
              "<Figure size 432x288 with 1 Axes>"
            ]
          },
          "metadata": {
            "tags": []
          }
        }
      ]
    },
    {
      "cell_type": "code",
      "metadata": {
        "id": "45VqEaW5sr-0",
        "colab_type": "code",
        "colab": {
          "base_uri": "https://localhost:8080/",
          "height": 287
        },
        "outputId": "ccea9cbd-e886-4c6f-92b4-c4af84a29022"
      },
      "source": [
        "lr_finder.plot_loss_change(sma=25, n_skip_beginning=300, n_skip_end=100, y_lim=(-0.02, 0.01))"
      ],
      "execution_count": 119,
      "outputs": [
        {
          "output_type": "display_data",
          "data": {
            "image/png": "[encoded data removed]",
            "text/plain": [
              "<Figure size 432x288 with 1 Axes>"
            ]
          },
          "metadata": {
            "tags": []
          }
        }
      ]
    },
    {
      "cell_type": "code",
      "metadata": {
        "id": "dOgJEeQmUgA_",
        "colab_type": "code",
        "colab": {
          "base_uri": "https://localhost:8080/",
          "height": 35
        },
        "outputId": "f5960f17-6797-4308-cf6e-6a3369e50c37"
      },
      "source": [
        "sma = 25\n",
        "n_skip_beginning = 300\n",
        "n_skip_end = 100\n",
        "\n",
        "best_lr = lr_finder.get_best_lr(sma, n_skip_beginning=n_skip_beginning, n_skip_end=n_skip_end)\n",
        "print('The best Learning Rate is: ', best_lr)"
      ],
      "execution_count": 124,
      "outputs": [
        {
          "output_type": "stream",
          "text": [
            "The best Learning Rate is:  0.017600462\n"
          ],
          "name": "stdout"
        }
      ]
    },
    {
      "cell_type": "markdown",
      "metadata": {
        "id": "tfAb68TfXFFW",
        "colab_type": "text"
      },
      "source": [
        "### SGD with momentum\n"
      ]
    },
    {
      "cell_type": "code",
      "metadata": {
        "id": "I7cVO2vNXEOp",
        "colab_type": "code",
        "colab": {
          "base_uri": "https://localhost:8080/",
          "height": 257
        },
        "outputId": "b104d247-9a71-4b36-9ad6-7295b0217539"
      },
      "source": [
        "from keras.optimizers import SGD\n",
        "\n",
        "model_sgd = func_model()\n",
        "\n",
        "sgd = SGD(lr=0.017600462, momentum=0.9)\n",
        "model_sgd.compile(optimizer=sgd, loss='categorical_crossentropy', metrics=['accuracy'])"
      ],
      "execution_count": 144,
      "outputs": [
        {
          "output_type": "stream",
          "text": [
            "/usr/local/lib/python3.6/dist-packages/ipykernel_launcher.py:5: UserWarning: Update your `Conv2D` call to the Keras 2 API: `Conv2D(32, (3, 3), kernel_regularizer=<keras.reg..., input_shape=(32, 32, 3..., padding=\"same\")`\n",
            "  \"\"\"\n",
            "/usr/local/lib/python3.6/dist-packages/ipykernel_launcher.py:9: UserWarning: Update your `Conv2D` call to the Keras 2 API: `Conv2D(64, (3, 3), kernel_regularizer=<keras.reg..., padding=\"same\")`\n",
            "  if __name__ == '__main__':\n",
            "/usr/local/lib/python3.6/dist-packages/ipykernel_launcher.py:16: UserWarning: Update your `Conv2D` call to the Keras 2 API: `Conv2D(32, (1, 1))`\n",
            "  app.launch_new_instance()\n",
            "/usr/local/lib/python3.6/dist-packages/ipykernel_launcher.py:19: UserWarning: Update your `Conv2D` call to the Keras 2 API: `Conv2D(64, (3, 3), kernel_regularizer=<keras.reg..., padding=\"same\")`\n",
            "/usr/local/lib/python3.6/dist-packages/ipykernel_launcher.py:23: UserWarning: Update your `Conv2D` call to the Keras 2 API: `Conv2D(128, (3, 3), kernel_regularizer=<keras.reg..., padding=\"same\")`\n",
            "/usr/local/lib/python3.6/dist-packages/ipykernel_launcher.py:30: UserWarning: Update your `Conv2D` call to the Keras 2 API: `Conv2D(32, (1, 1))`\n",
            "/usr/local/lib/python3.6/dist-packages/ipykernel_launcher.py:33: UserWarning: Update your `Conv2D` call to the Keras 2 API: `Conv2D(128, (3, 3), kernel_regularizer=<keras.reg..., padding=\"same\")`\n",
            "/usr/local/lib/python3.6/dist-packages/ipykernel_launcher.py:37: UserWarning: Update your `Conv2D` call to the Keras 2 API: `Conv2D(256, (3, 3), kernel_regularizer=<keras.reg..., padding=\"same\")`\n",
            "/usr/local/lib/python3.6/dist-packages/ipykernel_launcher.py:44: UserWarning: Update your `Conv2D` call to the Keras 2 API: `Conv2D(10, (1, 1))`\n"
          ],
          "name": "stderr"
        }
      ]
    },
    {
      "cell_type": "code",
      "metadata": {
        "id": "YRVTepRkZB6O",
        "colab_type": "code",
        "colab": {}
      },
      "source": [
        "from keras.callbacks import ModelCheckpoint\n",
        "\n",
        "checkpoint_path = \"gdrive/My Drive/Colab Notebooks/Session11/bestNW.hdf5\"\n",
        "checkpoint = ModelCheckpoint(checkpoint_path, monitor='val_acc', verbose=1, save_best_only=True, mode='max')"
      ],
      "execution_count": 0,
      "outputs": []
    },
    {
      "cell_type": "markdown",
      "metadata": {
        "id": "zRDscphpF2zv",
        "colab_type": "text"
      },
      "source": [
        "### Train for 100 Epochs  & Show Training and Test Accuracy curves"
      ]
    },
    {
      "cell_type": "code",
      "metadata": {
        "id": "9RdYGlPDXzRu",
        "colab_type": "code",
        "colab": {
          "base_uri": "https://localhost:8080/",
          "height": 1000
        },
        "outputId": "7c8ca916-2f9f-4af8-8a7c-a8fe9582b3f4"
      },
      "source": [
        "epoch = 100\n",
        "bs = 256\n",
        "\n",
        "datagen = ImageDataGenerator(zoom_range=0.0, \n",
        "                             horizontal_flip=False,\n",
        "                            preprocessing_function=get_random_eraser(v_l=0, v_h=1))\n",
        "\n",
        "\n",
        "# train the model\n",
        "start = time.time()\n",
        "# Train the model\n",
        "model_info = model_sgd.fit_generator(datagen.flow(X_train, Y_train, batch_size = bs),\n",
        "                                 samples_per_epoch = train_features.shape[0], nb_epoch = epoch, \n",
        "                                 validation_data = (X_test, Y_test), verbose=0, callbacks=[checkpoint])\n",
        "end = time.time()\n",
        "print (\"Model took %0.2f seconds to train\"%(end - start))\n",
        "# plot model history\n",
        "plot_model_history(model_info)\n",
        "\n",
        "# compute test accuracy\n",
        "print (\"Accuracy on test data is: %0.2f\"%accuracy(X_test, Y_test, model_sgd))\n",
        "\n"
      ],
      "execution_count": 146,
      "outputs": [
        {
          "output_type": "stream",
          "text": [
            "/usr/local/lib/python3.6/dist-packages/ipykernel_launcher.py:14: UserWarning: The semantics of the Keras 2 argument `steps_per_epoch` is not the same as the Keras 1 argument `samples_per_epoch`. `steps_per_epoch` is the number of batches to draw from the generator at each epoch. Basically steps_per_epoch = samples_per_epoch/batch_size. Similarly `nb_val_samples`->`validation_steps` and `val_samples`->`steps` arguments have changed. Update your method calls accordingly.\n",
            "  \n",
            "/usr/local/lib/python3.6/dist-packages/ipykernel_launcher.py:14: UserWarning: Update your `fit_generator` call to the Keras 2 API: `fit_generator(<keras_pre..., validation_data=(array([[[..., verbose=0, callbacks=[<keras.ca..., steps_per_epoch=195, epochs=100)`\n",
            "  \n"
          ],
          "name": "stderr"
        },
        {
          "output_type": "stream",
          "text": [
            "\n",
            "Epoch 00001: val_acc improved from -inf to 0.16570, saving model to gdrive/My Drive/Colab Notebooks/Session11/bestNW.hdf5\n",
            "\n",
            "Epoch 00002: val_acc did not improve from 0.16570\n",
            "\n",
            "Epoch 00003: val_acc improved from 0.16570 to 0.20560, saving model to gdrive/My Drive/Colab Notebooks/Session11/bestNW.hdf5\n",
            "\n",
            "Epoch 00004: val_acc did not improve from 0.20560\n",
            "\n",
            "Epoch 00005: val_acc did not improve from 0.20560\n",
            "\n",
            "Epoch 00006: val_acc did not improve from 0.20560\n",
            "\n",
            "Epoch 00007: val_acc did not improve from 0.20560\n",
            "\n",
            "Epoch 00008: val_acc improved from 0.20560 to 0.22120, saving model to gdrive/My Drive/Colab Notebooks/Session11/bestNW.hdf5\n",
            "\n",
            "Epoch 00009: val_acc did not improve from 0.22120\n",
            "\n",
            "Epoch 00010: val_acc did not improve from 0.22120\n",
            "\n",
            "Epoch 00011: val_acc did not improve from 0.22120\n",
            "\n",
            "Epoch 00012: val_acc improved from 0.22120 to 0.22130, saving model to gdrive/My Drive/Colab Notebooks/Session11/bestNW.hdf5\n",
            "\n",
            "Epoch 00013: val_acc improved from 0.22130 to 0.23660, saving model to gdrive/My Drive/Colab Notebooks/Session11/bestNW.hdf5\n",
            "\n",
            "Epoch 00014: val_acc did not improve from 0.23660\n",
            "\n",
            "Epoch 00015: val_acc did not improve from 0.23660\n",
            "\n",
            "Epoch 00016: val_acc improved from 0.23660 to 0.24120, saving model to gdrive/My Drive/Colab Notebooks/Session11/bestNW.hdf5\n",
            "\n",
            "Epoch 00017: val_acc did not improve from 0.24120\n",
            "\n",
            "Epoch 00018: val_acc did not improve from 0.24120\n",
            "\n",
            "Epoch 00019: val_acc did not improve from 0.24120\n",
            "\n",
            "Epoch 00020: val_acc did not improve from 0.24120\n",
            "\n",
            "Epoch 00021: val_acc did not improve from 0.24120\n",
            "\n",
            "Epoch 00022: val_acc improved from 0.24120 to 0.24620, saving model to gdrive/My Drive/Colab Notebooks/Session11/bestNW.hdf5\n",
            "\n",
            "Epoch 00023: val_acc did not improve from 0.24620\n",
            "\n",
            "Epoch 00024: val_acc did not improve from 0.24620\n",
            "\n",
            "Epoch 00025: val_acc did not improve from 0.24620\n",
            "\n",
            "Epoch 00026: val_acc did not improve from 0.24620\n",
            "\n",
            "Epoch 00027: val_acc improved from 0.24620 to 0.24840, saving model to gdrive/My Drive/Colab Notebooks/Session11/bestNW.hdf5\n",
            "\n",
            "Epoch 00028: val_acc did not improve from 0.24840\n",
            "\n",
            "Epoch 00029: val_acc improved from 0.24840 to 0.25580, saving model to gdrive/My Drive/Colab Notebooks/Session11/bestNW.hdf5\n",
            "\n",
            "Epoch 00030: val_acc did not improve from 0.25580\n",
            "\n",
            "Epoch 00031: val_acc did not improve from 0.25580\n",
            "\n",
            "Epoch 00032: val_acc did not improve from 0.25580\n",
            "\n",
            "Epoch 00033: val_acc did not improve from 0.25580\n",
            "\n",
            "Epoch 00034: val_acc did not improve from 0.25580\n",
            "\n",
            "Epoch 00035: val_acc did not improve from 0.25580\n",
            "\n",
            "Epoch 00036: val_acc did not improve from 0.25580\n",
            "\n",
            "Epoch 00037: val_acc did not improve from 0.25580\n",
            "\n",
            "Epoch 00038: val_acc improved from 0.25580 to 0.26150, saving model to gdrive/My Drive/Colab Notebooks/Session11/bestNW.hdf5\n",
            "\n",
            "Epoch 00039: val_acc did not improve from 0.26150\n",
            "\n",
            "Epoch 00040: val_acc did not improve from 0.26150\n",
            "\n",
            "Epoch 00041: val_acc did not improve from 0.26150\n",
            "\n",
            "Epoch 00042: val_acc did not improve from 0.26150\n",
            "\n",
            "Epoch 00043: val_acc did not improve from 0.26150\n",
            "\n",
            "Epoch 00044: val_acc improved from 0.26150 to 0.26700, saving model to gdrive/My Drive/Colab Notebooks/Session11/bestNW.hdf5\n",
            "\n",
            "Epoch 00045: val_acc did not improve from 0.26700\n",
            "\n",
            "Epoch 00046: val_acc did not improve from 0.26700\n",
            "\n",
            "Epoch 00047: val_acc did not improve from 0.26700\n",
            "\n",
            "Epoch 00048: val_acc improved from 0.26700 to 0.27300, saving model to gdrive/My Drive/Colab Notebooks/Session11/bestNW.hdf5\n",
            "\n",
            "Epoch 00049: val_acc did not improve from 0.27300\n",
            "\n",
            "Epoch 00050: val_acc did not improve from 0.27300\n",
            "\n",
            "Epoch 00051: val_acc did not improve from 0.27300\n",
            "\n",
            "Epoch 00052: val_acc did not improve from 0.27300\n",
            "\n",
            "Epoch 00053: val_acc did not improve from 0.27300\n",
            "\n",
            "Epoch 00054: val_acc did not improve from 0.27300\n",
            "\n",
            "Epoch 00055: val_acc did not improve from 0.27300\n",
            "\n",
            "Epoch 00056: val_acc did not improve from 0.27300\n",
            "\n",
            "Epoch 00057: val_acc did not improve from 0.27300\n",
            "\n",
            "Epoch 00058: val_acc did not improve from 0.27300\n",
            "\n",
            "Epoch 00059: val_acc did not improve from 0.27300\n",
            "\n",
            "Epoch 00060: val_acc did not improve from 0.27300\n",
            "\n",
            "Epoch 00061: val_acc did not improve from 0.27300\n",
            "\n",
            "Epoch 00062: val_acc did not improve from 0.27300\n",
            "\n",
            "Epoch 00063: val_acc did not improve from 0.27300\n",
            "\n",
            "Epoch 00064: val_acc did not improve from 0.27300\n",
            "\n",
            "Epoch 00065: val_acc did not improve from 0.27300\n",
            "\n",
            "Epoch 00066: val_acc did not improve from 0.27300\n",
            "\n",
            "Epoch 00067: val_acc did not improve from 0.27300\n",
            "\n",
            "Epoch 00068: val_acc did not improve from 0.27300\n",
            "\n",
            "Epoch 00069: val_acc did not improve from 0.27300\n",
            "\n",
            "Epoch 00070: val_acc did not improve from 0.27300\n",
            "\n",
            "Epoch 00071: val_acc did not improve from 0.27300\n",
            "\n",
            "Epoch 00072: val_acc did not improve from 0.27300\n",
            "\n",
            "Epoch 00073: val_acc did not improve from 0.27300\n",
            "\n",
            "Epoch 00074: val_acc did not improve from 0.27300\n",
            "\n",
            "Epoch 00075: val_acc did not improve from 0.27300\n",
            "\n",
            "Epoch 00076: val_acc did not improve from 0.27300\n",
            "\n",
            "Epoch 00077: val_acc did not improve from 0.27300\n",
            "\n",
            "Epoch 00078: val_acc did not improve from 0.27300\n",
            "\n",
            "Epoch 00079: val_acc did not improve from 0.27300\n",
            "\n",
            "Epoch 00080: val_acc did not improve from 0.27300\n",
            "\n",
            "Epoch 00081: val_acc did not improve from 0.27300\n",
            "\n",
            "Epoch 00082: val_acc did not improve from 0.27300\n",
            "\n",
            "Epoch 00083: val_acc did not improve from 0.27300\n",
            "\n",
            "Epoch 00084: val_acc did not improve from 0.27300\n",
            "\n",
            "Epoch 00085: val_acc did not improve from 0.27300\n",
            "\n",
            "Epoch 00086: val_acc did not improve from 0.27300\n",
            "\n",
            "Epoch 00087: val_acc did not improve from 0.27300\n",
            "\n",
            "Epoch 00088: val_acc did not improve from 0.27300\n",
            "\n",
            "Epoch 00089: val_acc did not improve from 0.27300\n",
            "\n",
            "Epoch 00090: val_acc did not improve from 0.27300\n",
            "\n",
            "Epoch 00091: val_acc did not improve from 0.27300\n",
            "\n",
            "Epoch 00092: val_acc did not improve from 0.27300\n",
            "\n",
            "Epoch 00093: val_acc did not improve from 0.27300\n",
            "\n",
            "Epoch 00094: val_acc did not improve from 0.27300\n",
            "\n",
            "Epoch 00095: val_acc did not improve from 0.27300\n",
            "\n",
            "Epoch 00096: val_acc did not improve from 0.27300\n",
            "\n",
            "Epoch 00097: val_acc did not improve from 0.27300\n",
            "\n",
            "Epoch 00098: val_acc did not improve from 0.27300\n",
            "\n",
            "Epoch 00099: val_acc did not improve from 0.27300\n",
            "\n",
            "Epoch 00100: val_acc did not improve from 0.27300\n",
            "Model took 2106.02 seconds to train\n"
          ],
          "name": "stdout"
        },
        {
          "output_type": "display_data",
          "data": {
            "image/png": "[encoded data removed]",
            "text/plain": [
              "<Figure size 1080x360 with 2 Axes>"
            ]
          },
          "metadata": {
            "tags": []
          }
        },
        {
          "output_type": "stream",
          "text": [
            "Accuracy on test data is: 14.60\n"
          ],
          "name": "stdout"
        }
      ]
    },
    {
      "cell_type": "code",
      "metadata": {
        "id": "_ihzQen78wzx",
        "colab_type": "code",
        "colab": {}
      },
      "source": [
        "model_sgd.summary()"
      ],
      "execution_count": 0,
      "outputs": []
    },
    {
      "cell_type": "markdown",
      "metadata": {
        "id": "5ZyriaLJGDMT",
        "colab_type": "text"
      },
      "source": [
        "### Run GradCAM on the any 25 misclassified images. Make sure you mention what is the prediction and what was the ground truth label."
      ]
    },
    {
      "cell_type": "code",
      "metadata": {
        "id": "X3-gW6X5u-R_",
        "colab_type": "code",
        "colab": {
          "base_uri": "https://localhost:8080/",
          "height": 1000
        },
        "outputId": "126bb40e-a71b-409f-e0f2-8f832c83bcdc"
      },
      "source": [
        "class_names = ['airplane','automobile','bird','cat','deer',\n",
        "               'dog','frog','horse','ship','truck']\n",
        "\n",
        "argmax_y_test = np.argmax(np.round(Y_test),axis=1)\n",
        "\n",
        "lst_misclassified_img_details = get_misclassified_images(model_sgd, X_test, argmax_y_test, num_images=25)\n",
        "\n",
        "conv_layer = model_sgd.get_layer('conv2d_152')\n",
        "\n",
        "for dct_img_details in lst_misclassified_img_details:\n",
        "  img = dct_img_details['image']\n",
        "  predicted_idx = dct_img_details['prediction']\n",
        "  ground_truth = dct_img_details['ground_truth']\n",
        "  print('Predicted: {}......Ground Truth: {}'.format(class_names[predicted_idx], class_names[ground_truth]))\n",
        "  img, preprocessed_img = preprocess_img(img, 32, 32)\n",
        "  \n",
        "  display_heatsigns_on_img(img, preprocessed_img, model_sgd, conv_layer, predicted_idx, num_channels=256)"
      ],
      "execution_count": 206,
      "outputs": [
        {
          "output_type": "stream",
          "text": [
            "[7 7 7 7 7 7 7 7 7]\n",
            "[3 8 8 0 6 6 1 6 3]\n",
            "[0, 1, 2, 3, 4, 5, 6, 7, 8]\n",
            "Found 8539 incorrect labels\n",
            "Predicted: horse......Ground Truth: truck\n"
          ],
          "name": "stdout"
        },
        {
          "output_type": "display_data",
          "data": {
            "image/png": "[encoded data removed]",
            "text/plain": [
              "<Figure size 216x216 with 1 Axes>"
            ]
          },
          "metadata": {
            "tags": []
          }
        },
        {
          "output_type": "stream",
          "text": [
            "Predicted: horse......Ground Truth: airplane\n"
          ],
          "name": "stdout"
        },
        {
          "output_type": "stream",
          "text": [
            "/usr/local/lib/python3.6/dist-packages/ipykernel_launcher.py:4: RuntimeWarning: invalid value encountered in true_divide\n",
            "  after removing the cwd from sys.path.\n"
          ],
          "name": "stderr"
        },
        {
          "output_type": "display_data",
          "data": {
            "image/png": "[encoded data removed]",
            "text/plain": [
              "<Figure size 216x216 with 1 Axes>"
            ]
          },
          "metadata": {
            "tags": []
          }
        },
        {
          "output_type": "stream",
          "text": [
            "Predicted: horse......Ground Truth: cat\n"
          ],
          "name": "stdout"
        },
        {
          "output_type": "display_data",
          "data": {
            "image/png": "[encoded data removed]",
            "text/plain": [
              "<Figure size 216x216 with 1 Axes>"
            ]
          },
          "metadata": {
            "tags": []
          }
        },
        {
          "output_type": "stream",
          "text": [
            "Predicted: horse......Ground Truth: dog\n"
          ],
          "name": "stdout"
        },
        {
          "output_type": "stream",
          "text": [
            "/usr/local/lib/python3.6/dist-packages/ipykernel_launcher.py:4: RuntimeWarning: invalid value encountered in true_divide\n",
            "  after removing the cwd from sys.path.\n"
          ],
          "name": "stderr"
        },
        {
          "output_type": "display_data",
          "data": {
            "image/png": "[encoded data removed]",
            "text/plain": [
              "<Figure size 216x216 with 1 Axes>"
            ]
          },
          "metadata": {
            "tags": []
          }
        },
        {
          "output_type": "stream",
          "text": [
            "Predicted: horse......Ground Truth: bird\n"
          ],
          "name": "stdout"
        },
        {
          "output_type": "stream",
          "text": [
            "/usr/local/lib/python3.6/dist-packages/ipykernel_launcher.py:4: RuntimeWarning: invalid value encountered in true_divide\n",
            "  after removing the cwd from sys.path.\n"
          ],
          "name": "stderr"
        },
        {
          "output_type": "display_data",
          "data": {
            "image/png": "[encoded data removed]",
            "text/plain": [
              "<Figure size 216x216 with 1 Axes>"
            ]
          },
          "metadata": {
            "tags": []
          }
        },
        {
          "output_type": "stream",
          "text": [
            "Predicted: horse......Ground Truth: dog\n"
          ],
          "name": "stdout"
        },
        {
          "output_type": "stream",
          "text": [
            "/usr/local/lib/python3.6/dist-packages/ipykernel_launcher.py:4: RuntimeWarning: invalid value encountered in true_divide\n",
            "  after removing the cwd from sys.path.\n"
          ],
          "name": "stderr"
        },
        {
          "output_type": "display_data",
          "data": {
            "image/png": "[encoded data removed]",
            "text/plain": [
              "<Figure size 216x216 with 1 Axes>"
            ]
          },
          "metadata": {
            "tags": []
          }
        },
        {
          "output_type": "stream",
          "text": [
            "Predicted: horse......Ground Truth: truck\n"
          ],
          "name": "stdout"
        },
        {
          "output_type": "display_data",
          "data": {
            "image/png": "[encoded data removed]",
            "text/plain": [
              "<Figure size 216x216 with 1 Axes>"
            ]
          },
          "metadata": {
            "tags": []
          }
        },
        {
          "output_type": "stream",
          "text": [
            "Predicted: horse......Ground Truth: airplane\n"
          ],
          "name": "stdout"
        },
        {
          "output_type": "display_data",
          "data": {
            "image/png": "[encoded data removed]",
            "text/plain": [
              "<Figure size 216x216 with 1 Axes>"
            ]
          },
          "metadata": {
            "tags": []
          }
        },
        {
          "output_type": "stream",
          "text": [
            "Predicted: horse......Ground Truth: dog\n"
          ],
          "name": "stdout"
        },
        {
          "output_type": "display_data",
          "data": {
            "image/png": "[encoded data removed]",
            "text/plain": [
              "<Figure size 216x216 with 1 Axes>"
            ]
          },
          "metadata": {
            "tags": []
          }
        },
        {
          "output_type": "stream",
          "text": [
            "Predicted: horse......Ground Truth: dog\n"
          ],
          "name": "stdout"
        },
        {
          "output_type": "display_data",
          "data": {
            "image/png": "[encoded data removed]",
            "text/plain": [
              "<Figure size 216x216 with 1 Axes>"
            ]
          },
          "metadata": {
            "tags": []
          }
        },
        {
          "output_type": "stream",
          "text": [
            "Predicted: horse......Ground Truth: airplane\n"
          ],
          "name": "stdout"
        },
        {
          "output_type": "display_data",
          "data": {
            "image/png": "[encoded data removed]",
            "text/plain": [
              "<Figure size 216x216 with 1 Axes>"
            ]
          },
          "metadata": {
            "tags": []
          }
        },
        {
          "output_type": "stream",
          "text": [
            "Predicted: horse......Ground Truth: cat\n"
          ],
          "name": "stdout"
        },
        {
          "output_type": "display_data",
          "data": {
            "image/png": "[encoded data removed]",
            "text/plain": [
              "<Figure size 216x216 with 1 Axes>"
            ]
          },
          "metadata": {
            "tags": []
          }
        },
        {
          "output_type": "stream",
          "text": [
            "Predicted: horse......Ground Truth: truck\n"
          ],
          "name": "stdout"
        },
        {
          "output_type": "stream",
          "text": [
            "/usr/local/lib/python3.6/dist-packages/ipykernel_launcher.py:4: RuntimeWarning: invalid value encountered in true_divide\n",
            "  after removing the cwd from sys.path.\n"
          ],
          "name": "stderr"
        },
        {
          "output_type": "display_data",
          "data": {
            "image/png": "[encoded data removed]",
            "text/plain": [
              "<Figure size 216x216 with 1 Axes>"
            ]
          },
          "metadata": {
            "tags": []
          }
        },
        {
          "output_type": "stream",
          "text": [
            "Predicted: horse......Ground Truth: dog\n"
          ],
          "name": "stdout"
        },
        {
          "output_type": "display_data",
          "data": {
            "image/png": "[encoded data removed]",
            "text/plain": [
              "<Figure size 216x216 with 1 Axes>"
            ]
          },
          "metadata": {
            "tags": []
          }
        },
        {
          "output_type": "stream",
          "text": [
            "Predicted: horse......Ground Truth: frog\n"
          ],
          "name": "stdout"
        },
        {
          "output_type": "display_data",
          "data": {
            "image/png": "[encoded data removed]",
            "text/plain": [
              "<Figure size 216x216 with 1 Axes>"
            ]
          },
          "metadata": {
            "tags": []
          }
        },
        {
          "output_type": "stream",
          "text": [
            "Predicted: horse......Ground Truth: dog\n"
          ],
          "name": "stdout"
        },
        {
          "output_type": "stream",
          "text": [
            "/usr/local/lib/python3.6/dist-packages/ipykernel_launcher.py:4: RuntimeWarning: invalid value encountered in true_divide\n",
            "  after removing the cwd from sys.path.\n"
          ],
          "name": "stderr"
        },
        {
          "output_type": "display_data",
          "data": {
            "image/png": "[encoded data removed]",
            "text/plain": [
              "<Figure size 216x216 with 1 Axes>"
            ]
          },
          "metadata": {
            "tags": []
          }
        },
        {
          "output_type": "stream",
          "text": [
            "Predicted: horse......Ground Truth: truck\n"
          ],
          "name": "stdout"
        },
        {
          "output_type": "stream",
          "text": [
            "/usr/local/lib/python3.6/dist-packages/ipykernel_launcher.py:4: RuntimeWarning: invalid value encountered in true_divide\n",
            "  after removing the cwd from sys.path.\n"
          ],
          "name": "stderr"
        },
        {
          "output_type": "display_data",
          "data": {
            "image/png": "[encoded data removed]",
            "text/plain": [
              "<Figure size 216x216 with 1 Axes>"
            ]
          },
          "metadata": {
            "tags": []
          }
        },
        {
          "output_type": "stream",
          "text": [
            "Predicted: horse......Ground Truth: frog\n"
          ],
          "name": "stdout"
        },
        {
          "output_type": "display_data",
          "data": {
            "image/png": "[encoded data removed]",
            "text/plain": [
              "<Figure size 216x216 with 1 Axes>"
            ]
          },
          "metadata": {
            "tags": []
          }
        },
        {
          "output_type": "stream",
          "text": [
            "Predicted: horse......Ground Truth: bird\n"
          ],
          "name": "stdout"
        },
        {
          "output_type": "stream",
          "text": [
            "/usr/local/lib/python3.6/dist-packages/ipykernel_launcher.py:4: RuntimeWarning: invalid value encountered in true_divide\n",
            "  after removing the cwd from sys.path.\n"
          ],
          "name": "stderr"
        },
        {
          "output_type": "display_data",
          "data": {
            "image/png": "[encoded data removed]",
            "text/plain": [
              "<Figure size 216x216 with 1 Axes>"
            ]
          },
          "metadata": {
            "tags": []
          }
        },
        {
          "output_type": "stream",
          "text": [
            "Predicted: horse......Ground Truth: frog\n"
          ],
          "name": "stdout"
        },
        {
          "output_type": "stream",
          "text": [
            "/usr/local/lib/python3.6/dist-packages/ipykernel_launcher.py:4: RuntimeWarning: invalid value encountered in true_divide\n",
            "  after removing the cwd from sys.path.\n"
          ],
          "name": "stderr"
        },
        {
          "output_type": "display_data",
          "data": {
            "image/png": "[encoded data removed]",
            "text/plain": [
              "<Figure size 216x216 with 1 Axes>"
            ]
          },
          "metadata": {
            "tags": []
          }
        },
        {
          "output_type": "stream",
          "text": [
            "Predicted: horse......Ground Truth: frog\n"
          ],
          "name": "stdout"
        },
        {
          "output_type": "stream",
          "text": [
            "/usr/local/lib/python3.6/dist-packages/ipykernel_launcher.py:4: RuntimeWarning: invalid value encountered in true_divide\n",
            "  after removing the cwd from sys.path.\n"
          ],
          "name": "stderr"
        },
        {
          "output_type": "display_data",
          "data": {
            "image/png": "[encoded data removed]",
            "text/plain": [
              "<Figure size 216x216 with 1 Axes>"
            ]
          },
          "metadata": {
            "tags": []
          }
        },
        {
          "output_type": "stream",
          "text": [
            "Predicted: horse......Ground Truth: ship\n"
          ],
          "name": "stdout"
        },
        {
          "output_type": "display_data",
          "data": {
            "image/png": "[encoded data removed]",
            "text/plain": [
              "<Figure size 216x216 with 1 Axes>"
            ]
          },
          "metadata": {
            "tags": []
          }
        },
        {
          "output_type": "stream",
          "text": [
            "Predicted: horse......Ground Truth: automobile\n"
          ],
          "name": "stdout"
        },
        {
          "output_type": "display_data",
          "data": {
            "image/png": "[encoded data removed]",
            "text/plain": [
              "<Figure size 216x216 with 1 Axes>"
            ]
          },
          "metadata": {
            "tags": []
          }
        },
        {
          "output_type": "stream",
          "text": [
            "Predicted: horse......Ground Truth: cat\n"
          ],
          "name": "stdout"
        },
        {
          "output_type": "stream",
          "text": [
            "/usr/local/lib/python3.6/dist-packages/ipykernel_launcher.py:4: RuntimeWarning: invalid value encountered in true_divide\n",
            "  after removing the cwd from sys.path.\n"
          ],
          "name": "stderr"
        },
        {
          "output_type": "display_data",
          "data": {
            "image/png": "[encoded data removed]",
            "text/plain": [
              "<Figure size 216x216 with 1 Axes>"
            ]
          },
          "metadata": {
            "tags": []
          }
        },
        {
          "output_type": "stream",
          "text": [
            "Predicted: horse......Ground Truth: automobile\n"
          ],
          "name": "stdout"
        },
        {
          "output_type": "display_data",
          "data": {
            "image/png": "[encoded data removed]",
            "text/plain": [
              "<Figure size 216x216 with 1 Axes>"
            ]
          },
          "metadata": {
            "tags": []
          }
        }
      ]
    }
  ]
}