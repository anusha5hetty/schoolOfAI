{
  "nbformat": 4,
  "nbformat_minor": 0,
  "metadata": {
    "colab": {
      "name": "1st DNN Anusha.ipynb",
      "version": "0.3.2",
      "provenance": [],
      "collapsed_sections": []
    },
    "kernelspec": {
      "name": "python3",
      "display_name": "Python 3"
    },
    "accelerator": "GPU"
  },
  "cells": [
    {
      "cell_type": "markdown",
      "metadata": {
        "id": "aNyZv-Ec52ot",
        "colab_type": "text"
      },
      "source": [
        "### **Import Libraries and modules**"
      ]
    },
    {
      "cell_type": "markdown",
      "metadata": {
        "id": "H_cVo5YwM5x4",
        "colab_type": "text"
      },
      "source": [
        "\n",
        "\n",
        "*   Keras is a high-level neural networks API, written in Python(supports Python 2.7-3.6)\n",
        "*  pip install command installs the packages\n",
        "*   The below code installs keras and imports the library into the module\n"
      ]
    },
    {
      "cell_type": "code",
      "metadata": {
        "id": "3m3w1Cw49Zkt",
        "colab_type": "code",
        "colab": {}
      },
      "source": [
        "# https://keras.io/\n",
        "!pip install -q keras\n",
        "import keras"
      ],
      "execution_count": 0,
      "outputs": []
    },
    {
      "cell_type": "code",
      "metadata": {
        "id": "Eso6UHE080D4",
        "colab_type": "code",
        "colab": {}
      },
      "source": [
        "import numpy as np\n",
        "\n",
        "from keras.models import Sequential\n",
        "\n",
        "from keras.layers import Dense, Dropout, Activation, Flatten, Add\n",
        "\n",
        "from keras.layers import Convolution2D, MaxPooling2D\n",
        "from keras.utils import np_utils\n",
        "\n",
        "from keras.datasets import mnist"
      ],
      "execution_count": 0,
      "outputs": []
    },
    {
      "cell_type": "markdown",
      "metadata": {
        "id": "zByEi95J86RD",
        "colab_type": "text"
      },
      "source": [
        "### Load pre-shuffled MNIST data into train and test sets"
      ]
    },
    {
      "cell_type": "markdown",
      "metadata": {
        "id": "hPZsF8YIPkMY",
        "colab_type": "text"
      },
      "source": [
        "*  Loading dataset of 60,000 28x28 grayscale images of the 10 digits, along with a test set of 10,000 *images*\n",
        "\n",
        "\n"
      ]
    },
    {
      "cell_type": "code",
      "metadata": {
        "id": "7eRM0QWN83PV",
        "colab_type": "code",
        "outputId": "bb6c8ee0-bc97-4b7f-b776-c2c57c5bb882",
        "colab": {
          "base_uri": "https://localhost:8080/",
          "height": 51
        }
      },
      "source": [
        "(X_train, y_train), (X_test, y_test) = mnist.load_data()"
      ],
      "execution_count": 4,
      "outputs": [
        {
          "output_type": "stream",
          "text": [
            "Downloading data from https://s3.amazonaws.com/img-datasets/mnist.npz\n",
            "11493376/11490434 [==============================] - 1s 0us/step\n"
          ],
          "name": "stdout"
        }
      ]
    },
    {
      "cell_type": "markdown",
      "metadata": {
        "id": "g8yqpTyuP50L",
        "colab_type": "text"
      },
      "source": [
        "*   Printing the number of data in X_train, dimension of each image and plotting the first image in X_train\n",
        "\n",
        "\n"
      ]
    },
    {
      "cell_type": "code",
      "metadata": {
        "id": "4a4Be72j8-ZC",
        "colab_type": "code",
        "outputId": "b34029b6-8d41-4327-c129-6cd98b2ba959",
        "colab": {
          "base_uri": "https://localhost:8080/",
          "height": 303
        }
      },
      "source": [
        "print (X_train.shape)\n",
        "from matplotlib import pyplot as plt\n",
        "%matplotlib inline\n",
        "plt.imshow(X_train[500])"
      ],
      "execution_count": 5,
      "outputs": [
        {
          "output_type": "stream",
          "text": [
            "(60000, 28, 28)\n"
          ],
          "name": "stdout"
        },
        {
          "output_type": "execute_result",
          "data": {
            "text/plain": [
              "<matplotlib.image.AxesImage at 0x7f8484a7c8d0>"
            ]
          },
          "metadata": {
            "tags": []
          },
          "execution_count": 5
        },
        {
          "output_type": "display_data",
          "data": {
            "image/png": "[encoded data removed]",
            "text/plain": [
              "<Figure size 432x288 with 1 Axes>"
            ]
          },
          "metadata": {
            "tags": []
          }
        }
      ]
    },
    {
      "cell_type": "markdown",
      "metadata": {
        "id": "NsmaD41LTIUu",
        "colab_type": "text"
      },
      "source": [
        "### Reshaping the dataset\n",
        "\n",
        "\n",
        "\n",
        "\n"
      ]
    },
    {
      "cell_type": "markdown",
      "metadata": {
        "id": "sbHVJ9sjT4mf",
        "colab_type": "text"
      },
      "source": [
        " \n",
        "\n",
        "*   Converts each data in X_train(28 x 28) & X_test into dimension 28x28x1.\n",
        "*   This is done because the model we are using below - Convolution2D expects the\n",
        "data to be 3 dimensional and mnist.load_data() provides data as (number_of_samples, 28, 28)\n",
        "\n"
      ]
    },
    {
      "cell_type": "code",
      "metadata": {
        "id": "dkmprriw9AnZ",
        "colab_type": "code",
        "colab": {}
      },
      "source": [
        "X_train = X_train.reshape(X_train.shape[0], 28, 28,1)\n",
        "X_test = X_test.reshape(X_test.shape[0], 28, 28,1)"
      ],
      "execution_count": 0,
      "outputs": []
    },
    {
      "cell_type": "markdown",
      "metadata": {
        "id": "icXeGkVOT9wX",
        "colab_type": "text"
      },
      "source": [
        "*   Converts the dataset X_train and X_test into float (32-bits)\n",
        "*   This is done as 32-bit precision is commonly used when training a neural network.\n",
        "*  Also, as we are dividing every value in the training set by 255(maximum value of a byte) in the next step. \n",
        "*   If the datatype of training set  is not float, after division by 255 the values would be just 0 or 1\n",
        "*  Dividing number with 255 is done so that the input features are scaled between 0.0 and 1.0. (normalization)\n",
        "\n",
        "\n",
        "\n",
        "\n",
        "\n",
        "\n",
        "\n"
      ]
    },
    {
      "cell_type": "code",
      "metadata": {
        "id": "X2m4YS4E9CRh",
        "colab_type": "code",
        "colab": {}
      },
      "source": [
        "X_train = X_train.astype('float32')\n",
        "X_test = X_test.astype('float32')\n",
        "X_train /= 255\n",
        "X_test /= 255"
      ],
      "execution_count": 0,
      "outputs": []
    },
    {
      "cell_type": "markdown",
      "metadata": {
        "id": "0ZsX_SXHHu7A",
        "colab_type": "text"
      },
      "source": [
        "*   displays the first 10 output values in the output training dataset"
      ]
    },
    {
      "cell_type": "code",
      "metadata": {
        "id": "0Mn0vAYD9DvB",
        "colab_type": "code",
        "outputId": "8c7595ab-7236-40fd-9c43-8ceea2e44a58",
        "colab": {
          "base_uri": "https://localhost:8080/",
          "height": 34
        }
      },
      "source": [
        "y_train[:10]"
      ],
      "execution_count": 8,
      "outputs": [
        {
          "output_type": "execute_result",
          "data": {
            "text/plain": [
              "array([5, 0, 4, 1, 9, 2, 1, 3, 1, 4], dtype=uint8)"
            ]
          },
          "metadata": {
            "tags": []
          },
          "execution_count": 8
        }
      ]
    },
    {
      "cell_type": "markdown",
      "metadata": {
        "id": "Q1Hex2OQH4xW",
        "colab_type": "text"
      },
      "source": [
        "* Converts each value in the output training and testing dataset into vector of dimension 1xnumber_of_classes\n",
        "* The values in the vector will be 0. or 1. \n",
        "* Only one of the values in each vector will be 1, indicating the class to which the input data belongs to. Eg the first value in the y_train is 5, this will be converted into  [0., 0., 0., 0., 0., 1., 0., 0., 0., 0., 0.]. \n",
        "* The 6th value in the vector will be 1 indicating class 5.\n",
        "* The first value in the vector represents class 0, second value represents class 1 and so on.\n",
        "\n",
        "* Convert 1-dimensional class arrays to 10-dimensional class matrices"
      ]
    },
    {
      "cell_type": "code",
      "metadata": {
        "id": "ZG8JiXR39FHC",
        "colab_type": "code",
        "colab": {}
      },
      "source": [
        "# Convert 1-dimensional class arrays to 10-dimensional class matrices\n",
        "Y_train = np_utils.to_categorical(y_train, 10)\n",
        "Y_test = np_utils.to_categorical(y_test, 10)"
      ],
      "execution_count": 0,
      "outputs": []
    },
    {
      "cell_type": "markdown",
      "metadata": {
        "id": "rlEsx8NqUYYQ",
        "colab_type": "text"
      },
      "source": [
        "* displays the first 10 output values in the output training dataset after conversion to vectors\n"
      ]
    },
    {
      "cell_type": "code",
      "metadata": {
        "id": "fYlFRvKS9HMB",
        "colab_type": "code",
        "outputId": "c0c6819a-4044-459d-fc24-d7477de74a23",
        "colab": {
          "base_uri": "https://localhost:8080/",
          "height": 187
        }
      },
      "source": [
        "Y_train[:10]\n"
      ],
      "execution_count": 10,
      "outputs": [
        {
          "output_type": "execute_result",
          "data": {
            "text/plain": [
              "array([[0., 0., 0., 0., 0., 1., 0., 0., 0., 0.],\n",
              "       [1., 0., 0., 0., 0., 0., 0., 0., 0., 0.],\n",
              "       [0., 0., 0., 0., 1., 0., 0., 0., 0., 0.],\n",
              "       [0., 1., 0., 0., 0., 0., 0., 0., 0., 0.],\n",
              "       [0., 0., 0., 0., 0., 0., 0., 0., 0., 1.],\n",
              "       [0., 0., 1., 0., 0., 0., 0., 0., 0., 0.],\n",
              "       [0., 1., 0., 0., 0., 0., 0., 0., 0., 0.],\n",
              "       [0., 0., 0., 1., 0., 0., 0., 0., 0., 0.],\n",
              "       [0., 1., 0., 0., 0., 0., 0., 0., 0., 0.],\n",
              "       [0., 0., 0., 0., 1., 0., 0., 0., 0., 0.]], dtype=float32)"
            ]
          },
          "metadata": {
            "tags": []
          },
          "execution_count": 10
        }
      ]
    },
    {
      "cell_type": "markdown",
      "metadata": {
        "id": "-53dZnNIdaFH",
        "colab_type": "text"
      },
      "source": [
        "### Training DNN Model\n",
        "\n",
        "* Model"
      ]
    },
    {
      "cell_type": "code",
      "metadata": {
        "id": "osKqT73Q9JJB",
        "colab_type": "code",
        "outputId": "71437628-9162-471d-b77a-4b6fc463f7ab",
        "colab": {
          "base_uri": "https://localhost:8080/",
          "height": 343
        }
      },
      "source": [
        "from keras.layers import Activation\n",
        "model = Sequential()\n",
        "\n",
        "model.add(Convolution2D(8, 3, 3, activation='relu', input_shape=(28,28,1)))\n",
        "model.add(Convolution2D(16, 3, 3, activation='relu'))\n",
        "model.add(Convolution2D(24, 3, 3, activation='relu'))\n",
        "\n",
        "model.add(Convolution2D(8, 1, 1, activation='relu'))\n",
        "model.add(MaxPooling2D(pool_size=(2, 2)))\n",
        "model.add(keras.layers.Dropout(0.5))\n",
        "\n",
        "model.add(Convolution2D(8, 3, 3, activation='relu'))\n",
        "model.add(Convolution2D(16, 3, 3, activation='relu'))\n",
        "model.add(Convolution2D(24, 3, 3, activation='relu'))\n",
        "model.add(Convolution2D(32, 3, 3, activation='relu'))\n",
        "model.add(Convolution2D(10, 3, 3))\n",
        "\n",
        "model.add(Flatten())\n",
        "model.add(Activation('softmax'))"
      ],
      "execution_count": 189,
      "outputs": [
        {
          "output_type": "stream",
          "text": [
            "/usr/local/lib/python3.6/dist-packages/ipykernel_launcher.py:4: UserWarning: Update your `Conv2D` call to the Keras 2 API: `Conv2D(8, (3, 3), activation=\"relu\", input_shape=(28, 28, 1...)`\n",
            "  after removing the cwd from sys.path.\n",
            "/usr/local/lib/python3.6/dist-packages/ipykernel_launcher.py:5: UserWarning: Update your `Conv2D` call to the Keras 2 API: `Conv2D(16, (3, 3), activation=\"relu\")`\n",
            "  \"\"\"\n",
            "/usr/local/lib/python3.6/dist-packages/ipykernel_launcher.py:6: UserWarning: Update your `Conv2D` call to the Keras 2 API: `Conv2D(24, (3, 3), activation=\"relu\")`\n",
            "  \n",
            "/usr/local/lib/python3.6/dist-packages/ipykernel_launcher.py:8: UserWarning: Update your `Conv2D` call to the Keras 2 API: `Conv2D(8, (1, 1), activation=\"relu\")`\n",
            "  \n",
            "/usr/local/lib/python3.6/dist-packages/ipykernel_launcher.py:12: UserWarning: Update your `Conv2D` call to the Keras 2 API: `Conv2D(8, (3, 3), activation=\"relu\")`\n",
            "  if sys.path[0] == '':\n",
            "/usr/local/lib/python3.6/dist-packages/ipykernel_launcher.py:13: UserWarning: Update your `Conv2D` call to the Keras 2 API: `Conv2D(16, (3, 3), activation=\"relu\")`\n",
            "  del sys.path[0]\n",
            "/usr/local/lib/python3.6/dist-packages/ipykernel_launcher.py:14: UserWarning: Update your `Conv2D` call to the Keras 2 API: `Conv2D(24, (3, 3), activation=\"relu\")`\n",
            "  \n",
            "/usr/local/lib/python3.6/dist-packages/ipykernel_launcher.py:15: UserWarning: Update your `Conv2D` call to the Keras 2 API: `Conv2D(32, (3, 3), activation=\"relu\")`\n",
            "  from ipykernel import kernelapp as app\n",
            "/usr/local/lib/python3.6/dist-packages/ipykernel_launcher.py:16: UserWarning: Update your `Conv2D` call to the Keras 2 API: `Conv2D(10, (3, 3))`\n",
            "  app.launch_new_instance()\n"
          ],
          "name": "stderr"
        }
      ]
    },
    {
      "cell_type": "code",
      "metadata": {
        "id": "TzdAYg1k9K7Z",
        "colab_type": "code",
        "outputId": "d2145de2-6e1f-49d4-b1bb-574549831781",
        "colab": {
          "base_uri": "https://localhost:8080/",
          "height": 578
        }
      },
      "source": [
        "model.summary()"
      ],
      "execution_count": 190,
      "outputs": [
        {
          "output_type": "stream",
          "text": [
            "_________________________________________________________________\n",
            "Layer (type)                 Output Shape              Param #   \n",
            "=================================================================\n",
            "conv2d_387 (Conv2D)          (None, 26, 26, 8)         80        \n",
            "_________________________________________________________________\n",
            "conv2d_388 (Conv2D)          (None, 24, 24, 16)        1168      \n",
            "_________________________________________________________________\n",
            "conv2d_389 (Conv2D)          (None, 22, 22, 24)        3480      \n",
            "_________________________________________________________________\n",
            "conv2d_390 (Conv2D)          (None, 22, 22, 8)         200       \n",
            "_________________________________________________________________\n",
            "max_pooling2d_43 (MaxPooling (None, 11, 11, 8)         0         \n",
            "_________________________________________________________________\n",
            "dropout_49 (Dropout)         (None, 11, 11, 8)         0         \n",
            "_________________________________________________________________\n",
            "conv2d_391 (Conv2D)          (None, 9, 9, 8)           584       \n",
            "_________________________________________________________________\n",
            "conv2d_392 (Conv2D)          (None, 7, 7, 16)          1168      \n",
            "_________________________________________________________________\n",
            "conv2d_393 (Conv2D)          (None, 5, 5, 24)          3480      \n",
            "_________________________________________________________________\n",
            "conv2d_394 (Conv2D)          (None, 3, 3, 32)          6944      \n",
            "_________________________________________________________________\n",
            "conv2d_395 (Conv2D)          (None, 1, 1, 10)          2890      \n",
            "_________________________________________________________________\n",
            "flatten_43 (Flatten)         (None, 10)                0         \n",
            "_________________________________________________________________\n",
            "activation_43 (Activation)   (None, 10)                0         \n",
            "=================================================================\n",
            "Total params: 19,994\n",
            "Trainable params: 19,994\n",
            "Non-trainable params: 0\n",
            "_________________________________________________________________\n"
          ],
          "name": "stdout"
        }
      ]
    },
    {
      "cell_type": "markdown",
      "metadata": {
        "id": "KDpMppc8fyZN",
        "colab_type": "text"
      },
      "source": [
        "* Compiles the convolution model. \n",
        "* Compile method takes 3 parameters - loss, optimizer, metrics\n",
        "* loss - lower the score, better the performance. value: categorical_crossentropy (commonly used)\n",
        "* optimizer - controls the learning rate (determines how fast the optimal weights for the model are calculated)\n",
        "* metrics - displays the accuracy metrics. indicates the accuracy of the trained model "
      ]
    },
    {
      "cell_type": "code",
      "metadata": {
        "id": "Zp6SuGrL9M3h",
        "colab_type": "code",
        "colab": {}
      },
      "source": [
        "model.compile(loss='categorical_crossentropy',\n",
        "             optimizer='adam',\n",
        "             metrics=['accuracy'])"
      ],
      "execution_count": 0,
      "outputs": []
    },
    {
      "cell_type": "code",
      "metadata": {
        "id": "4xWoKhPY9Of5",
        "colab_type": "code",
        "outputId": "4a0f4fb5-be6b-48aa-bd0e-c328fbed756b",
        "colab": {
          "base_uri": "https://localhost:8080/",
          "height": 1108
        }
      },
      "source": [
        "model.fit(X_train, Y_train, batch_size=64, nb_epoch=30, verbose=1)"
      ],
      "execution_count": 195,
      "outputs": [
        {
          "output_type": "stream",
          "text": [
            "Epoch 1/30\n",
            " 1216/60000 [..............................] - ETA: 8s - loss: 0.0290 - acc: 0.9877"
          ],
          "name": "stdout"
        },
        {
          "output_type": "stream",
          "text": [
            "/usr/local/lib/python3.6/dist-packages/ipykernel_launcher.py:1: UserWarning: The `nb_epoch` argument in `fit` has been renamed `epochs`.\n",
            "  \"\"\"Entry point for launching an IPython kernel.\n"
          ],
          "name": "stderr"
        },
        {
          "output_type": "stream",
          "text": [
            "60000/60000 [==============================] - 8s 131us/step - loss: 0.0300 - acc: 0.9902\n",
            "Epoch 2/30\n",
            "60000/60000 [==============================] - 8s 132us/step - loss: 0.0280 - acc: 0.9910\n",
            "Epoch 3/30\n",
            "60000/60000 [==============================] - 9s 145us/step - loss: 0.0266 - acc: 0.9914\n",
            "Epoch 4/30\n",
            "60000/60000 [==============================] - 8s 129us/step - loss: 0.0267 - acc: 0.9911\n",
            "Epoch 5/30\n",
            "60000/60000 [==============================] - 8s 130us/step - loss: 0.0257 - acc: 0.9916\n",
            "Epoch 6/30\n",
            "60000/60000 [==============================] - 8s 129us/step - loss: 0.0253 - acc: 0.9916\n",
            "Epoch 7/30\n",
            "60000/60000 [==============================] - 8s 129us/step - loss: 0.0237 - acc: 0.9919\n",
            "Epoch 8/30\n",
            "60000/60000 [==============================] - 8s 129us/step - loss: 0.0237 - acc: 0.9922\n",
            "Epoch 9/30\n",
            "60000/60000 [==============================] - 8s 129us/step - loss: 0.0234 - acc: 0.9921\n",
            "Epoch 10/30\n",
            "60000/60000 [==============================] - 8s 129us/step - loss: 0.0242 - acc: 0.9919\n",
            "Epoch 11/30\n",
            "60000/60000 [==============================] - 8s 129us/step - loss: 0.0230 - acc: 0.9927\n",
            "Epoch 12/30\n",
            "60000/60000 [==============================] - 8s 137us/step - loss: 0.0248 - acc: 0.9920\n",
            "Epoch 13/30\n",
            "60000/60000 [==============================] - 9s 149us/step - loss: 0.0214 - acc: 0.9931\n",
            "Epoch 14/30\n",
            "60000/60000 [==============================] - 8s 132us/step - loss: 0.0230 - acc: 0.9923\n",
            "Epoch 15/30\n",
            "60000/60000 [==============================] - 8s 132us/step - loss: 0.0202 - acc: 0.9933\n",
            "Epoch 16/30\n",
            "60000/60000 [==============================] - 8s 137us/step - loss: 0.0216 - acc: 0.9927\n",
            "Epoch 17/30\n",
            "60000/60000 [==============================] - 8s 128us/step - loss: 0.0208 - acc: 0.9930\n",
            "Epoch 18/30\n",
            "60000/60000 [==============================] - 8s 129us/step - loss: 0.0200 - acc: 0.9936\n",
            "Epoch 19/30\n",
            "60000/60000 [==============================] - 8s 128us/step - loss: 0.0192 - acc: 0.9938\n",
            "Epoch 20/30\n",
            "60000/60000 [==============================] - 8s 128us/step - loss: 0.0203 - acc: 0.9935\n",
            "Epoch 21/30\n",
            "60000/60000 [==============================] - 8s 129us/step - loss: 0.0189 - acc: 0.9940\n",
            "Epoch 22/30\n",
            "60000/60000 [==============================] - 8s 128us/step - loss: 0.0181 - acc: 0.9940\n",
            "Epoch 23/30\n",
            "60000/60000 [==============================] - 9s 142us/step - loss: 0.0176 - acc: 0.9942\n",
            "Epoch 24/30\n",
            "60000/60000 [==============================] - 8s 136us/step - loss: 0.0200 - acc: 0.9939\n",
            "Epoch 25/30\n",
            "60000/60000 [==============================] - 8s 130us/step - loss: 0.0191 - acc: 0.9939\n",
            "Epoch 26/30\n",
            "60000/60000 [==============================] - 8s 131us/step - loss: 0.0169 - acc: 0.9942\n",
            "Epoch 27/30\n",
            "60000/60000 [==============================] - 8s 129us/step - loss: 0.0175 - acc: 0.9939\n",
            "Epoch 28/30\n",
            "60000/60000 [==============================] - 8s 131us/step - loss: 0.0183 - acc: 0.9938\n",
            "Epoch 29/30\n",
            "60000/60000 [==============================] - 8s 132us/step - loss: 0.0185 - acc: 0.9941\n",
            "Epoch 30/30\n",
            "60000/60000 [==============================] - 8s 133us/step - loss: 0.0174 - acc: 0.9944\n"
          ],
          "name": "stdout"
        },
        {
          "output_type": "execute_result",
          "data": {
            "text/plain": [
              "<keras.callbacks.History at 0x7f842be00780>"
            ]
          },
          "metadata": {
            "tags": []
          },
          "execution_count": 195
        }
      ]
    },
    {
      "cell_type": "markdown",
      "metadata": {
        "id": "ty7il18_gwUR",
        "colab_type": "text"
      },
      "source": [
        "* Evaluates the trained model. \n",
        "* Returns the loss value & metrics values for the model in test mode\n",
        "* Returns the accuracy of the model in this *"
      ]
    },
    {
      "cell_type": "code",
      "metadata": {
        "id": "AtsH-lLk-eLb",
        "colab_type": "code",
        "colab": {}
      },
      "source": [
        "score = model.evaluate(X_test, Y_test, verbose=0)"
      ],
      "execution_count": 0,
      "outputs": []
    },
    {
      "cell_type": "code",
      "metadata": {
        "id": "mkX8JMv79q9r",
        "colab_type": "code",
        "outputId": "a3e82f64-6e3a-4ff3-8314-aed86d453dbb",
        "colab": {
          "base_uri": "https://localhost:8080/",
          "height": 34
        }
      },
      "source": [
        "print(score)"
      ],
      "execution_count": 197,
      "outputs": [
        {
          "output_type": "stream",
          "text": [
            "[0.031124401932613364, 0.9913]\n"
          ],
          "name": "stdout"
        }
      ]
    },
    {
      "cell_type": "markdown",
      "metadata": {
        "id": "dWIxMnNZg2om",
        "colab_type": "text"
      },
      "source": [
        "* The trained model predicts the output for all the input dataset in X_test\n"
      ]
    },
    {
      "cell_type": "code",
      "metadata": {
        "id": "OCWoJkwE9suh",
        "colab_type": "code",
        "colab": {}
      },
      "source": [
        "y_pred = model.predict(X_test)"
      ],
      "execution_count": 0,
      "outputs": []
    },
    {
      "cell_type": "code",
      "metadata": {
        "id": "Ym7iCFBm9uBs",
        "colab_type": "code",
        "outputId": "ba0cd5ed-a61f-47d7-fcbe-230b5666e0b2",
        "colab": {
          "base_uri": "https://localhost:8080/",
          "height": 493
        }
      },
      "source": [
        "print(y_pred[:9])\n",
        "print(y_test[:9])"
      ],
      "execution_count": 217,
      "outputs": [
        {
          "output_type": "stream",
          "text": [
            "[[9.21644792e-12 1.64206654e-07 4.12715326e-06 5.18118313e-08\n",
            "  3.60710914e-07 1.19364199e-10 1.91028942e-17 9.99993205e-01\n",
            "  6.93901603e-10 2.16547733e-06]\n",
            " [5.40889467e-08 1.69114145e-07 9.99999523e-01 1.46104018e-10\n",
            "  2.49118365e-10 2.76379197e-10 1.86010666e-07 5.70938193e-11\n",
            "  3.31840759e-08 5.77983706e-14]\n",
            " [4.74322187e-12 9.99998212e-01 1.44369583e-08 4.05388431e-11\n",
            "  4.17996176e-07 2.54959822e-08 1.08775011e-09 1.37989718e-06\n",
            "  1.02745625e-08 4.62864662e-08]\n",
            " [9.97561336e-01 5.60426705e-10 2.58570680e-07 3.06075854e-09\n",
            "  3.73771094e-08 2.24538826e-06 2.43556057e-03 3.25126370e-09\n",
            "  2.37649175e-07 3.14335409e-07]\n",
            " [4.23311939e-13 1.81482950e-15 7.86186727e-10 1.84236959e-10\n",
            "  9.99983191e-01 2.29293494e-11 1.76278692e-09 2.24722534e-08\n",
            "  2.90249957e-09 1.67625349e-05]\n",
            " [2.40194128e-12 9.99997854e-01 3.53185499e-08 3.65423525e-11\n",
            "  4.20740747e-07 3.70860032e-09 5.64602150e-11 1.75329569e-06\n",
            "  6.25872021e-09 4.89122982e-08]\n",
            " [5.66966266e-12 3.16245767e-08 2.68834829e-05 7.12565873e-09\n",
            "  9.99902487e-01 5.10662090e-09 2.52833431e-11 1.13078113e-05\n",
            "  7.58177464e-07 5.85117596e-05]\n",
            " [1.78556181e-09 3.55827893e-07 2.53126541e-06 1.37054149e-05\n",
            "  6.99014496e-03 9.28384325e-05 2.69033129e-09 7.17020521e-06\n",
            "  6.03441822e-06 9.92887199e-01]\n",
            " [6.08340045e-03 6.70517938e-12 1.19962962e-07 1.85360953e-08\n",
            "  5.62066407e-06 8.83319616e-01 1.04492076e-01 8.30368163e-10\n",
            "  5.27623203e-03 8.23094626e-04]]\n",
            "[7 2 1 0 4 1 4 9 5]\n"
          ],
          "name": "stdout"
        }
      ]
    },
    {
      "cell_type": "code",
      "metadata": {
        "id": "CT--y98_dr2T",
        "colab_type": "code",
        "colab": {}
      },
      "source": [
        "layer_dict = dict([(layer.name, layer) for layer in model.layers])"
      ],
      "execution_count": 0,
      "outputs": []
    },
    {
      "cell_type": "code",
      "metadata": {
        "id": "2GY4Upv4dsUR",
        "colab_type": "code",
        "outputId": "43ac38b8-886a-40c2-e322-76150e3e9d0b",
        "colab": {
          "base_uri": "https://localhost:8080/",
          "height": 316
        }
      },
      "source": [
        "import numpy as np\n",
        "from matplotlib import pyplot as plt\n",
        "from keras import backend as K\n",
        "%matplotlib inline\n",
        "# util function to convert a tensor into a valid image\n",
        "def deprocess_image(x):\n",
        "    # normalize tensor: center on 0., ensure std is 0.1\n",
        "    x -= x.mean()\n",
        "    x /= (x.std() + 1e-5)\n",
        "    x *= 0.1\n",
        "\n",
        "    # clip to [0, 1]\n",
        "    x += 0.5\n",
        "    x = np.clip(x, 0, 1)\n",
        "\n",
        "    # convert to RGB array\n",
        "    x *= 255\n",
        "    #x = x.transpose((1, 2, 0))\n",
        "    x = np.clip(x, 0, 255).astype('uint8')\n",
        "    return x\n",
        "\n",
        "def vis_img_in_filter(img = np.array(X_train[2]).reshape((1, 28, 28, 1)).astype(np.float64), \n",
        "                      layer_name = 'conv2d_14'):\n",
        "    layer_output = layer_dict[layer_name].output\n",
        "    img_ascs = list()\n",
        "    for filter_index in range(layer_output.shape[3]):\n",
        "        # build a loss function that maximizes the activation\n",
        "        # of the nth filter of the layer considered\n",
        "        loss = K.mean(layer_output[:, :, :, filter_index])\n",
        "\n",
        "        # compute the gradient of the input picture wrt this loss\n",
        "        grads = K.gradients(loss, model.input)[0]\n",
        "\n",
        "        # normalization trick: we normalize the gradient\n",
        "        grads /= (K.sqrt(K.mean(K.square(grads))) + 1e-5)\n",
        "\n",
        "        # this function returns the loss and grads given the input picture\n",
        "        iterate = K.function([model.input], [loss, grads])\n",
        "\n",
        "        # step size for gradient ascent\n",
        "        step = 5.\n",
        "\n",
        "        img_asc = np.array(img)\n",
        "        # run gradient ascent for 20 steps\n",
        "        for i in range(20):\n",
        "            loss_value, grads_value = iterate([img_asc])\n",
        "            img_asc += grads_value * step\n",
        "\n",
        "        img_asc = img_asc[0]\n",
        "        img_ascs.append(deprocess_image(img_asc).reshape((28, 28)))\n",
        "        \n",
        "    if layer_output.shape[3] >= 35:\n",
        "        plot_x, plot_y = 6, 6\n",
        "    elif layer_output.shape[3] >= 23:\n",
        "        plot_x, plot_y = 4, 6\n",
        "    elif layer_output.shape[3] >= 11:\n",
        "        plot_x, plot_y = 2, 6\n",
        "    else:\n",
        "        plot_x, plot_y = 1, 2\n",
        "    fig, ax = plt.subplots(plot_x, plot_y, figsize = (12, 12))\n",
        "    ax[0, 0].imshow(img.reshape((28, 28)), cmap = 'gray')\n",
        "    ax[0, 0].set_title('Input image')\n",
        "    fig.suptitle('Input image and %s filters' % (layer_name,))\n",
        "    fig.tight_layout(pad = 0.3, rect = [0, 0, 0.9, 0.9])\n",
        "    for (x, y) in [(i, j) for i in range(plot_x) for j in range(plot_y)]:\n",
        "        if x == 0 and y == 0:\n",
        "            continue\n",
        "        ax[x, y].imshow(img_ascs[x * plot_y + y - 1], cmap = 'gray')\n",
        "        ax[x, y].set_title('filter %d' % (x * plot_y + y - 1))\n",
        "\n",
        "vis_img_in_filter()"
      ],
      "execution_count": 79,
      "outputs": [
        {
          "output_type": "error",
          "ename": "NameError",
          "evalue": "ignored",
          "traceback": [
            "\u001b[0;31m---------------------------------------------------------------------------\u001b[0m",
            "\u001b[0;31mNameError\u001b[0m                                 Traceback (most recent call last)",
            "\u001b[0;32m<ipython-input-79-19229f66b51a>\u001b[0m in \u001b[0;36m<module>\u001b[0;34m()\u001b[0m\n\u001b[1;32m     69\u001b[0m         \u001b[0max\u001b[0m\u001b[0;34m[\u001b[0m\u001b[0mx\u001b[0m\u001b[0;34m,\u001b[0m \u001b[0my\u001b[0m\u001b[0;34m]\u001b[0m\u001b[0;34m.\u001b[0m\u001b[0mset_title\u001b[0m\u001b[0;34m(\u001b[0m\u001b[0;34m'filter %d'\u001b[0m \u001b[0;34m%\u001b[0m \u001b[0;34m(\u001b[0m\u001b[0mx\u001b[0m \u001b[0;34m*\u001b[0m \u001b[0mplot_y\u001b[0m \u001b[0;34m+\u001b[0m \u001b[0my\u001b[0m \u001b[0;34m-\u001b[0m \u001b[0;36m1\u001b[0m\u001b[0;34m)\u001b[0m\u001b[0;34m)\u001b[0m\u001b[0;34m\u001b[0m\u001b[0;34m\u001b[0m\u001b[0m\n\u001b[1;32m     70\u001b[0m \u001b[0;34m\u001b[0m\u001b[0m\n\u001b[0;32m---> 71\u001b[0;31m \u001b[0mvis_img_in_filter\u001b[0m\u001b[0;34m(\u001b[0m\u001b[0;34m)\u001b[0m\u001b[0;34m\u001b[0m\u001b[0;34m\u001b[0m\u001b[0m\n\u001b[0m",
            "\u001b[0;32m<ipython-input-79-19229f66b51a>\u001b[0m in \u001b[0;36mvis_img_in_filter\u001b[0;34m(img, layer_name)\u001b[0m\n\u001b[1;32m     22\u001b[0m def vis_img_in_filter(img = np.array(X_train[2]).reshape((1, 28, 28, 1)).astype(np.float64), \n\u001b[1;32m     23\u001b[0m                       layer_name = 'conv2d_14'):\n\u001b[0;32m---> 24\u001b[0;31m     \u001b[0mlayer_output\u001b[0m \u001b[0;34m=\u001b[0m \u001b[0mlayer_dict\u001b[0m\u001b[0;34m[\u001b[0m\u001b[0mlayer_name\u001b[0m\u001b[0;34m]\u001b[0m\u001b[0;34m.\u001b[0m\u001b[0moutput\u001b[0m\u001b[0;34m\u001b[0m\u001b[0;34m\u001b[0m\u001b[0m\n\u001b[0m\u001b[1;32m     25\u001b[0m     \u001b[0mimg_ascs\u001b[0m \u001b[0;34m=\u001b[0m \u001b[0mlist\u001b[0m\u001b[0;34m(\u001b[0m\u001b[0;34m)\u001b[0m\u001b[0;34m\u001b[0m\u001b[0;34m\u001b[0m\u001b[0m\n\u001b[1;32m     26\u001b[0m     \u001b[0;32mfor\u001b[0m \u001b[0mfilter_index\u001b[0m \u001b[0;32min\u001b[0m \u001b[0mrange\u001b[0m\u001b[0;34m(\u001b[0m\u001b[0mlayer_output\u001b[0m\u001b[0;34m.\u001b[0m\u001b[0mshape\u001b[0m\u001b[0;34m[\u001b[0m\u001b[0;36m3\u001b[0m\u001b[0;34m]\u001b[0m\u001b[0;34m)\u001b[0m\u001b[0;34m:\u001b[0m\u001b[0;34m\u001b[0m\u001b[0;34m\u001b[0m\u001b[0m\n",
            "\u001b[0;31mNameError\u001b[0m: name 'layer_dict' is not defined"
          ]
        }
      ]
    },
    {
      "cell_type": "code",
      "metadata": {
        "id": "9tvptcn8dxvp",
        "colab_type": "code",
        "colab": {}
      },
      "source": [
        ""
      ],
      "execution_count": 0,
      "outputs": []
    }
  ]
}