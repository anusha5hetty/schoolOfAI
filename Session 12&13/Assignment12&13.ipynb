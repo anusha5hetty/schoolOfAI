{
  "nbformat": 4,
  "nbformat_minor": 0,
  "metadata": {
    "colab": {
      "name": "Assignment12&13.ipynb",
      "version": "0.3.2",
      "provenance": [],
      "collapsed_sections": []
    },
    "kernelspec": {
      "name": "python3",
      "display_name": "Python 3"
    },
    "accelerator": "GPU"
  },
  "cells": [
    {
      "cell_type": "code",
      "metadata": {
        "id": "jaNNGnT8CIP0",
        "colab_type": "code",
        "colab": {}
      },
      "source": [
        "import math\n",
        "import time\n",
        "import matplotlib.pyplot as plt\n",
        "import numpy as np\n",
        "% matplotlib inline\n",
        "np.random.seed(2017)\n",
        "\n",
        "import tensorflow as tf\n",
        "from tensorflow.keras import backend as K\n",
        "from tensorflow.keras import utils\n",
        "from tensorflow.keras.preprocessing.image import ImageDataGenerator\n",
        "from tensorflow.keras.callbacks import Callback\n",
        "from tensorflow.keras import backend as K\n",
        "from tensorflow.keras.models import Model\n",
        "from tensorflow.keras.callbacks import LambdaCallback\n",
        "from tensorflow.keras.optimizers import SGD\n",
        "from tensorflow.data import Dataset"
      ],
      "execution_count": 0,
      "outputs": []
    },
    {
      "cell_type": "code",
      "metadata": {
        "id": "NHpnoCHZfO8g",
        "colab_type": "code",
        "outputId": "e20badf6-f34a-438e-d74a-f1da01e00810",
        "colab": {
          "base_uri": "https://localhost:8080/",
          "height": 53
        }
      },
      "source": [
        "# Loads CIFAR10 dataset\n",
        "# 'features' values will have images, 'labels' will have the names represented by the corresponding 'feature' image\n",
        "from tensorflow.keras.datasets import cifar10\n",
        "(train_features, train_labels), (test_features, test_labels) = cifar10.load_data()\n",
        "num_train, img_channels, img_rows, img_cols =  train_features.shape\n",
        "num_test, _, _, _ =  test_features.shape\n",
        "num_classes = len(np.unique(train_labels))"
      ],
      "execution_count": 0,
      "outputs": [
        {
          "output_type": "stream",
          "text": [
            "Downloading data from https://www.cs.toronto.edu/~kriz/cifar-10-python.tar.gz\n",
            "170500096/170498071 [==============================] - 2s 0us/step\n"
          ],
          "name": "stdout"
        }
      ]
    },
    {
      "cell_type": "code",
      "metadata": {
        "id": "bmfsk76-fadV",
        "colab_type": "code",
        "colab": {}
      },
      "source": [
        "# Function to plot charts showing 'Model Accuracy vs Epoch' and 'Model Loss vs Epoch'\n",
        "def plot_model_history(model_history):\n",
        "    fig, axs = plt.subplots(1,2,figsize=(15,5))\n",
        "    # summarize history for accuracy\n",
        "    axs[0].plot(range(1,len(model_history.history['acc'])+1),model_history.history['acc'])\n",
        "    axs[0].plot(range(1,len(model_history.history['val_acc'])+1),model_history.history['val_acc'])\n",
        "    axs[0].set_title('Model Accuracy')\n",
        "    axs[0].set_ylabel('Accuracy')\n",
        "    axs[0].set_xlabel('Epoch')\n",
        "    axs[0].set_xticks(np.arange(1,len(model_history.history['acc'])+1),len(model_history.history['acc'])/10)\n",
        "    axs[0].legend(['train', 'val'], loc='best')\n",
        "    # summarize history for loss\n",
        "    axs[1].plot(range(1,len(model_history.history['loss'])+1),model_history.history['loss'])\n",
        "    axs[1].plot(range(1,len(model_history.history['val_loss'])+1),model_history.history['val_loss'])\n",
        "    axs[1].set_title('Model Loss')\n",
        "    axs[1].set_ylabel('Loss')\n",
        "    axs[1].set_xlabel('Epoch')\n",
        "    axs[1].set_xticks(np.arange(1,len(model_history.history['loss'])+1),len(model_history.history['loss'])/10)\n",
        "    axs[1].legend(['train', 'val'], loc='best')\n",
        "    plt.show()"
      ],
      "execution_count": 0,
      "outputs": []
    },
    {
      "cell_type": "code",
      "metadata": {
        "id": "YJMT4rjgfdZz",
        "colab_type": "code",
        "colab": {}
      },
      "source": [
        "# Function to calculate the Test Accuracy on test dataset\n",
        "def accuracy(test_x, test_y, model):\n",
        "    result = model.predict(test_x)\n",
        "    predicted_class = np.argmax(result, axis=1)\n",
        "    true_class = np.argmax(test_y, axis=1)\n",
        "    num_correct = np.sum(predicted_class == true_class) \n",
        "    accuracy = float(num_correct)/result.shape[0]\n",
        "    return (accuracy * 100)"
      ],
      "execution_count": 0,
      "outputs": []
    },
    {
      "cell_type": "code",
      "metadata": {
        "id": "T5c5nDvxm6zR",
        "colab_type": "code",
        "colab": {}
      },
      "source": [
        "# Why Float32?\n",
        "# Using a 32 bit precision is a common approach in neural network training.\n",
        "# Reason behind is that to make sure that the dataset fits easily in RAM.\n",
        "\n",
        "# Why dividing by 255?\n",
        "# 255 is the max pixel value in an image. Dividing all pixel values by 255 ensures that the input features are scaled between 0.0 and 1.0\n",
        "# Reason behind to scale between 0.0 and 1.0 is to make sure default learning rate works well.\n",
        "\n",
        "# train_features = train_features.astype('float32')/255\n",
        "# test_features = test_features.astype('float32')/255\n",
        "\n",
        "# convert class labels to binary class labels\n",
        "train_labels = utils.to_categorical(train_labels, num_classes)\n",
        "test_labels = utils.to_categorical(test_labels, num_classes)"
      ],
      "execution_count": 0,
      "outputs": []
    },
    {
      "cell_type": "code",
      "metadata": {
        "id": "zKKIVutGdFfJ",
        "colab_type": "code",
        "cellView": "both",
        "colab": {}
      },
      "source": [
        "BATCH_SIZE = 128 #@param [\"512\", \"256\", \"128\"] {type:\"raw\"}\n",
        "MOMENTUM = 0.9 #@param [\"0.9\", \"0.95\", \"0.975\"] {type:\"raw\"}\n",
        "WEIGHT_DECAY = 5e-4 #@param [\"0.000125\", \"0.00025\", \"0.0005\", \"5e-4\"] {type:\"raw\"}\n",
        "LEARNING_RATE = 0.4 #@param [\"0.4\", \"0.2\", \"0.1\"] {type:\"raw\"}\n",
        "EPOCHS = 100 #@param {type:\"slider\", min:0, max:100, step:1}\n",
        "WARMUP = 5 #@param {type:\"slider\", min:0, max:24, step:1}"
      ],
      "execution_count": 0,
      "outputs": []
    },
    {
      "cell_type": "code",
      "metadata": {
        "id": "TDO0FQFhKeOG",
        "colab_type": "code",
        "colab": {}
      },
      "source": [
        "train_mean = np.asarray((0.4914, 0.4822, 0.4465))\n",
        "train_std = np.asarray((0.2023, 0.1994, 0.2010))"
      ],
      "execution_count": 0,
      "outputs": []
    },
    {
      "cell_type": "code",
      "metadata": {
        "id": "xPhw17QMd10j",
        "colab_type": "code",
        "outputId": "d9a123ad-5220-461d-f3c9-4c799f65283e",
        "colab": {
          "base_uri": "https://localhost:8080/",
          "height": 35
        }
      },
      "source": [
        "normalize = lambda x: ((x - train_mean) / train_std).astype('float32') # todo: check here\n",
        "pad4 = lambda x: np.pad(x, [(0, 0), (4, 4), (4, 4), (0, 0)], mode='reflect')\n",
        "\n",
        "# Padding and Cropping\n",
        "train_features = normalize(pad4(train_features))\n",
        "print(train_features.shape)\n",
        "test_features = normalize(test_features)\n"
      ],
      "execution_count": 0,
      "outputs": [
        {
          "output_type": "stream",
          "text": [
            "(50000, 40, 40, 3)\n"
          ],
          "name": "stdout"
        }
      ]
    },
    {
      "cell_type": "code",
      "metadata": {
        "id": "9fIYQ4idfjFH",
        "colab_type": "code",
        "colab": {}
      },
      "source": [
        "def random_crop(img, random_crop_size):\n",
        "    # Note: image_data_format is 'channel_last'\n",
        "    assert img.shape[2] == 3\n",
        "    height, width = img.shape[0], img.shape[1]\n",
        "    dy, dx = random_crop_size\n",
        "    x = np.random.randint(0, width - dx + 1)\n",
        "    y = np.random.randint(0, height - dy + 1)\n",
        "    return img[y:(y+dy), x:(x+dx), :]\n",
        "\n",
        "\n",
        "def crop_generator(batches, crop_length):\n",
        "    \"\"\"Take as input a Keras ImageGen (Iterator) and generate random\n",
        "    crops from the image batches generated by the original iterator.\n",
        "    \"\"\"\n",
        "    while True:\n",
        "        batch_x, batch_y = next(batches)\n",
        "        batch_crops = np.zeros((batch_x.shape[0], crop_length, crop_length, 3))\n",
        "        for i in range(batch_x.shape[0]):\n",
        "            batch_crops[i] = random_crop(batch_x[i], (crop_length, crop_length))\n",
        "        yield (batch_crops, batch_y)\n"
      ],
      "execution_count": 0,
      "outputs": []
    },
    {
      "cell_type": "code",
      "metadata": {
        "id": "Gb2z_T7VNLIU",
        "colab_type": "code",
        "colab": {}
      },
      "source": [
        "def get_random_eraser(p=0.5, s_l=0.02, s_h=0.4, r_1=0.3, r_2=1/0.3, v_l=0, v_h=255, pixel_level=False):\n",
        "    def eraser(input_img):\n",
        "        img_h, img_w, img_c = input_img.shape\n",
        "        p_1 = np.random.rand()\n",
        "\n",
        "        if p_1 > p:\n",
        "            return input_img\n",
        "\n",
        "        while True:\n",
        "            s = np.random.uniform(s_l, s_h) * img_h * img_w\n",
        "            r = np.random.uniform(r_1, r_2)\n",
        "            w = int(np.sqrt(s / r))\n",
        "            h = int(np.sqrt(s * r))\n",
        "            left = np.random.randint(0, img_w)\n",
        "            top = np.random.randint(0, img_h)\n",
        "\n",
        "            if left + w <= img_w and top + h <= img_h:\n",
        "                break\n",
        "\n",
        "        if pixel_level:\n",
        "            c = np.random.uniform(v_l, v_h, (h, w, img_c))\n",
        "        else:\n",
        "            c = np.random.uniform(v_l, v_h)\n",
        "\n",
        "        input_img[top:top + h, left:left + w, :] = c\n",
        "\n",
        "        return input_img\n",
        "\n",
        "    return eraser\n"
      ],
      "execution_count": 0,
      "outputs": []
    },
    {
      "cell_type": "markdown",
      "metadata": {
        "id": "WrstORBQ0Kq0",
        "colab_type": "text"
      },
      "source": [
        "## LR Finder"
      ]
    },
    {
      "cell_type": "code",
      "metadata": {
        "id": "eLFlW394L-7R",
        "colab_type": "code",
        "colab": {}
      },
      "source": [
        "class LRFinder:\n",
        "    \"\"\"\n",
        "    Plots the change of the loss function of a Keras model when the learning rate is exponentially increasing.\n",
        "    See for details:\n",
        "    https://towardsdatascience.com/estimating-optimal-learning-rate-for-a-deep-neural-network-ce32f2556ce0\n",
        "    \"\"\"\n",
        "    def __init__(self, model):\n",
        "        self.model = model\n",
        "        self.losses = []\n",
        "        self.lrs = []\n",
        "        self.best_loss = 1e9\n",
        "\n",
        "    def on_batch_end(self, batch, logs):\n",
        "        # Log the learning rate\n",
        "        lr = K.get_value(self.model.optimizer.lr)\n",
        "        self.lrs.append(lr)\n",
        "\n",
        "        # Log the loss\n",
        "        loss = logs['loss']\n",
        "        self.losses.append(loss)\n",
        "\n",
        "        # Check whether the loss got too large or NaN\n",
        "        if batch > 5 and (math.isnan(loss) or loss > self.best_loss * 4):\n",
        "            self.model.stop_training = True\n",
        "            return\n",
        "\n",
        "        if loss < self.best_loss:\n",
        "            self.best_loss = loss\n",
        "\n",
        "        # Increase the learning rate for the next batch\n",
        "        lr *= self.lr_mult\n",
        "        K.set_value(self.model.optimizer.lr, lr)\n",
        "\n",
        "    def find(self, x_train, y_train, start_lr, end_lr, batch_size=64, epochs=1):\n",
        "        num_batches = epochs * x_train.shape[0] / batch_size\n",
        "        self.lr_mult = (float(end_lr) / float(start_lr)) ** (float(1) / float(num_batches))\n",
        "\n",
        "        # Save weights into a file\n",
        "        self.model.save_weights('tmp.h5')\n",
        "\n",
        "        # Remember the original learning rate\n",
        "        original_lr = K.get_value(self.model.optimizer.lr)\n",
        "\n",
        "        # Set the initial learning rate\n",
        "        K.set_value(self.model.optimizer.lr, start_lr)\n",
        "\n",
        "        callback = LambdaCallback(on_batch_end=lambda batch, logs: self.on_batch_end(batch, logs))\n",
        "\n",
        "        self.model.fit(x_train, y_train,\n",
        "                        batch_size=batch_size, epochs=epochs,\n",
        "                        callbacks=[callback])\n",
        "\n",
        "        # Restore the weights to the state before model fitting\n",
        "        self.model.load_weights('tmp.h5')\n",
        "\n",
        "        # Restore the original learning rate\n",
        "        K.set_value(self.model.optimizer.lr, original_lr)\n",
        "\n",
        "    def find_generator(self, generator, start_lr, end_lr, epochs=1, steps_per_epoch=None, **kw_fit):\n",
        "            if steps_per_epoch is None:\n",
        "                try:\n",
        "                    steps_per_epoch = len(generator)\n",
        "                except (ValueError, NotImplementedError) as e:\n",
        "                    raise e('`steps_per_epoch=None` is only valid for a'\n",
        "                            ' generator based on the '\n",
        "                            '`keras.utils.Sequence`'\n",
        "                            ' class. Please specify `steps_per_epoch` '\n",
        "                            'or use the `keras.utils.Sequence` class.')\n",
        "            self.lr_mult = (float(end_lr) / float(start_lr)) ** (float(1) / float(steps_per_epoch))\n",
        "\n",
        "            # Save weights into a file\n",
        "            self.model.save_weights('tmp.h5')\n",
        "\n",
        "            # Remember the original learning rate\n",
        "            original_lr = K.get_value(self.model.optimizer.lr)\n",
        "\n",
        "            # Set the initial learning rate\n",
        "            K.set_value(self.model.optimizer.lr, start_lr)\n",
        "\n",
        "            callback = LambdaCallback(on_batch_end=lambda batch,\n",
        "                                      logs: self.on_batch_end(batch, logs))\n",
        "\n",
        "            self.model.fit_generator(generator=generator,\n",
        "                                     epochs=epochs,\n",
        "                                     steps_per_epoch=steps_per_epoch,\n",
        "                                     callbacks=[callback],\n",
        "                                     **kw_fit)\n",
        "\n",
        "            # Restore the weights to the state before model fitting\n",
        "            self.model.load_weights('tmp.h5')\n",
        "\n",
        "            # Restore the original learning rate\n",
        "            K.set_value(self.model.optimizer.lr, original_lr)\n",
        "\n",
        "    def plot_loss(self, n_skip_beginning=10, n_skip_end=5):\n",
        "        \"\"\"\n",
        "        Plots the loss.\n",
        "        Parameters:\n",
        "            n_skip_beginning - number of batches to skip on the left.\n",
        "            n_skip_end - number of batches to skip on the right.\n",
        "        \"\"\"\n",
        "        plt.ylabel(\"loss\")\n",
        "        plt.xlabel(\"learning rate (log scale)\")\n",
        "        plt.plot(self.lrs[n_skip_beginning:-n_skip_end], self.losses[n_skip_beginning:-n_skip_end])\n",
        "        plt.xscale('log')\n",
        "\n",
        "    def plot_loss_change(self, sma=1, n_skip_beginning=10, n_skip_end=5, y_lim=(-0.01, 0.01)):\n",
        "        \"\"\"\n",
        "        Plots rate of change of the loss function.\n",
        "        Parameters:\n",
        "            sma - number of batches for simple moving average to smooth out the curve.\n",
        "            n_skip_beginning - number of batches to skip on the left.\n",
        "            n_skip_end - number of batches to skip on the right.\n",
        "            y_lim - limits for the y axis.\n",
        "        \"\"\"\n",
        "        derivatives = self.get_derivatives(sma)[n_skip_beginning:-n_skip_end]\n",
        "        lrs = self.lrs[n_skip_beginning:-n_skip_end]\n",
        "        plt.ylabel(\"rate of loss change\")\n",
        "        plt.xlabel(\"learning rate (log scale)\")\n",
        "        plt.plot(lrs, derivatives)\n",
        "        plt.xscale('log')\n",
        "        plt.ylim(y_lim)\n",
        "\n",
        "    def get_derivatives(self, sma):\n",
        "        assert sma >= 1\n",
        "        derivatives = [0] * sma\n",
        "        for i in range(sma, len(self.lrs)):\n",
        "            derivatives.append((self.losses[i] - self.losses[i - sma]) / sma)\n",
        "        return derivatives\n",
        "\n",
        "    def get_best_lr(self, sma, n_skip_beginning=10, n_skip_end=5):\n",
        "        derivatives = self.get_derivatives(sma)\n",
        "#         best_der_idx = np.argmax(derivatives[n_skip_beginning:-n_skip_end])[0]\n",
        "        print(derivatives[n_skip_beginning:-n_skip_end])\n",
        "        best_der_idx = np.argmax(derivatives[n_skip_beginning:-n_skip_end])\n",
        "        return self.lrs[n_skip_beginning:-n_skip_end][best_der_idx]"
      ],
      "execution_count": 0,
      "outputs": []
    },
    {
      "cell_type": "markdown",
      "metadata": {
        "id": "YLAWNQOu1N_N",
        "colab_type": "text"
      },
      "source": [
        "## Model"
      ]
    },
    {
      "cell_type": "code",
      "metadata": {
        "id": "PuNs_yLtxFRo",
        "colab_type": "code",
        "colab": {}
      },
      "source": [
        "def init_pytorch(shape, dtype=tf.float32, partition_info=None):\n",
        "  fan = np.prod(shape[:-1])\n",
        "  bound = 1 / math.sqrt(fan)\n",
        "  return tf.random.uniform(shape, minval=-bound, maxval=bound, dtype=dtype)"
      ],
      "execution_count": 0,
      "outputs": []
    },
    {
      "cell_type": "code",
      "metadata": {
        "id": "TeEzMXdRnn6O",
        "colab_type": "code",
        "colab": {}
      },
      "source": [
        "from tensorflow.keras.layers import Input, Conv2D, BatchNormalization, MaxPooling2D, Concatenate, GlobalMaxPool2D, Dense, Flatten, Activation\n",
        "\n",
        "class ConvBN(tf.keras.Model):\n",
        "  def __init__(self, c_out):\n",
        "    super().__init__()\n",
        "    self.conv = Conv2D(filters=c_out, kernel_size=3, padding=\"SAME\", kernel_initializer=init_pytorch, use_bias=False)\n",
        "    self.bn = BatchNormalization(momentum=MOMENTUM, epsilon=1e-5)\n",
        "\n",
        "  def call(self, inputs):\n",
        "    return tf.nn.relu(self.bn(self.conv(inputs)))\n"
      ],
      "execution_count": 0,
      "outputs": []
    },
    {
      "cell_type": "code",
      "metadata": {
        "id": "hOhwOsR5ppzT",
        "colab_type": "code",
        "colab": {}
      },
      "source": [
        "class ResBlk(tf.keras.Model):\n",
        "  def __init__(self, c_out, pool):\n",
        "    super().__init__()\n",
        "    self.conv_bn = ConvBN(c_out)\n",
        "    self.pool = pool\n",
        "    self.res1 = ConvBN(c_out)\n",
        "    self.res2 = ConvBN(c_out)\n",
        "\n",
        "  def call(self, inputs):\n",
        "    h = self.pool(self.conv_bn(inputs))\n",
        "    res_layer = self.res2(self.res1(h))\n",
        "    return Concatenate(axis=1)([h, res_layer])\n"
      ],
      "execution_count": 0,
      "outputs": []
    },
    {
      "cell_type": "code",
      "metadata": {
        "id": "VTjlPA72s4NJ",
        "colab_type": "code",
        "colab": {}
      },
      "source": [
        "def DavidNet(c=64, weight=0.125):\n",
        "    pool = tf.keras.layers.MaxPooling2D()\n",
        "\n",
        "    inputs = Input(shape=(32, 32, 3))\n",
        "    conv1 = ConvBN(c)(inputs)\n",
        "\n",
        "    # Layer 1\n",
        "    residual1 = ResBlk(c*2, pool)(conv1)\n",
        "\n",
        "    # Layer 2\n",
        "    conv2 = ConvBN(c*4)(residual1)\n",
        "    conv2 = pool(conv2)\n",
        "\n",
        "    # Layer 3\n",
        "    residual2 = ResBlk(c*8, pool)(conv2)\n",
        "\n",
        "    # Classifier\n",
        "    global_max_pool = GlobalMaxPool2D()(residual2)\n",
        "    linear = Dense(10, kernel_initializer=init_pytorch, use_bias=False)(global_max_pool)\n",
        "    output= Activation('softmax')(linear)\n",
        "\n",
        "    model = Model(inputs=[inputs], outputs=[output])\n",
        "\n",
        "    return model"
      ],
      "execution_count": 0,
      "outputs": []
    },
    {
      "cell_type": "code",
      "metadata": {
        "id": "h9leA_Viwpdt",
        "colab_type": "code",
        "colab": {}
      },
      "source": [
        "model = DavidNet()\n",
        "sgd = SGD(nesterov=True)\n",
        "model.compile(optimizer=sgd, loss='categorical_crossentropy', metrics=['accuracy'])\n"
      ],
      "execution_count": 0,
      "outputs": []
    },
    {
      "cell_type": "code",
      "metadata": {
        "id": "SPN0Co4ttwLZ",
        "colab_type": "code",
        "outputId": "c44807ed-85e9-4681-c6ef-fa89841b4587",
        "colab": {
          "base_uri": "https://localhost:8080/",
          "height": 489
        }
      },
      "source": [
        "model.summary()"
      ],
      "execution_count": 0,
      "outputs": [
        {
          "output_type": "stream",
          "text": [
            "Model: \"model\"\n",
            "_________________________________________________________________\n",
            "Layer (type)                 Output Shape              Param #   \n",
            "=================================================================\n",
            "input_1 (InputLayer)         [(None, 32, 32, 3)]       0         \n",
            "_________________________________________________________________\n",
            "conv_bn (ConvBN)             (None, 32, 32, 64)        1984      \n",
            "_________________________________________________________________\n",
            "res_blk (ResBlk)             (None, 32, 16, 128)       370176    \n",
            "_________________________________________________________________\n",
            "conv_bn_4 (ConvBN)           (None, 32, 16, 256)       295936    \n",
            "_________________________________________________________________\n",
            "max_pooling2d (MaxPooling2D) multiple                  0         \n",
            "_________________________________________________________________\n",
            "res_blk_1 (ResBlk)           (None, 16, 4, 512)        5904384   \n",
            "_________________________________________________________________\n",
            "global_max_pooling2d (Global (None, 512)               0         \n",
            "_________________________________________________________________\n",
            "dense (Dense)                (None, 10)                5120      \n",
            "_________________________________________________________________\n",
            "activation (Activation)      (None, 10)                0         \n",
            "=================================================================\n",
            "Total params: 6,577,600\n",
            "Trainable params: 6,573,120\n",
            "Non-trainable params: 4,480\n",
            "_________________________________________________________________\n"
          ],
          "name": "stdout"
        }
      ]
    },
    {
      "cell_type": "code",
      "metadata": {
        "id": "tmH6PqkEEU9e",
        "colab_type": "code",
        "outputId": "6bef505c-e013-45ee-aa49-c3e5e05a5369",
        "colab": {
          "base_uri": "https://localhost:8080/",
          "height": 90
        }
      },
      "source": [
        "datagen = ImageDataGenerator(horizontal_flip=True, height_shift_range=0.5)\n",
        "\n",
        "lr_finder = LRFinder(model)\n",
        "bs = 512\n",
        "epoch = 5\n",
        "steps_per_epoch = train_features.shape[0]/BATCH_SIZE\n",
        "\n",
        "# train the model\n",
        "start = time.time()\n",
        "# Train the model\n",
        "\n",
        "train_data = datagen.flow(train_features, train_labels, batch_size = BATCH_SIZE)\n",
        "train_crops = crop_generator(train_data, 32)\n",
        "print(train_crops)\n",
        "\n",
        "model_info = lr_finder.find_generator(train_crops, \n",
        "                                      steps_per_epoch = steps_per_epoch,\n",
        "                                      start_lr=0.0001, end_lr=1, epochs=5,\n",
        "                                      validation_data=(test_features, test_labels), verbose=1)\n",
        "end = time.time()\n",
        "print (\"Model took %0.2f seconds to train\"%(end - start))\n",
        "\n",
        "# compute test accuracy\n",
        "print (\"Accuracy on test data is: %0.2f\"%accuracy(test_features, test_labels, model))"
      ],
      "execution_count": 0,
      "outputs": [
        {
          "output_type": "stream",
          "text": [
            "<generator object crop_generator at 0x7fac7c37e150>\n",
            "Epoch 1/5\n",
            "281/390 [====================>.........] - ETA: 19s - loss: 2.8190 - acc: 0.1846Model took 51.33 seconds to train\n",
            "Accuracy on test data is: 9.98\n"
          ],
          "name": "stdout"
        }
      ]
    },
    {
      "cell_type": "code",
      "metadata": {
        "id": "EhQd5jUbR38H",
        "colab_type": "code",
        "outputId": "5d4f0a6d-0c44-498c-92df-4d0a21b51a04",
        "colab": {
          "base_uri": "https://localhost:8080/",
          "height": 287
        }
      },
      "source": [
        "# Plot the loss, ignore 20 batches in the beginning and 5 in the end\n",
        "lr_finder.plot_loss(n_skip_beginning=20, n_skip_end=5)"
      ],
      "execution_count": 0,
      "outputs": [
        {
          "output_type": "display_data",
          "data": {
            "image/png": "[encoded data removed]",
            "text/plain": [
              "<Figure size 432x288 with 1 Axes>"
            ]
          },
          "metadata": {
            "tags": []
          }
        }
      ]
    },
    {
      "cell_type": "code",
      "metadata": {
        "id": "yWJqqQ94R4-U",
        "colab_type": "code",
        "outputId": "c40440a7-b6e0-4a47-c24d-0ec4a39e64b3",
        "colab": {
          "base_uri": "https://localhost:8080/",
          "height": 287
        }
      },
      "source": [
        "lr_finder.plot_loss_change(sma=20, n_skip_beginning=20, n_skip_end=5, y_lim=(-0.02, 0.01))"
      ],
      "execution_count": 0,
      "outputs": [
        {
          "output_type": "display_data",
          "data": {
            "image/png": "[encoded data removed]",
            "text/plain": [
              "<Figure size 432x288 with 1 Axes>"
            ]
          },
          "metadata": {
            "tags": []
          }
        }
      ]
    },
    {
      "cell_type": "code",
      "metadata": {
        "id": "6DfSpNm0R-Za",
        "colab_type": "code",
        "outputId": "5272b298-8800-4e9b-b168-1c5d00cbe2b6",
        "colab": {
          "base_uri": "https://localhost:8080/",
          "height": 73
        }
      },
      "source": [
        "sma = 25\n",
        "n_skip_beginning = 20\n",
        "n_skip_end = 5\n",
        "\n",
        "best_lr = lr_finder.get_best_lr(sma, n_skip_beginning=n_skip_beginning, n_skip_end=n_skip_end)\n",
        "print('The best Learning Rate is: ', best_lr)"
      ],
      "execution_count": 0,
      "outputs": [
        {
          "output_type": "stream",
          "text": [
            "[0, 0, 0, 0, 0, -0.035581741333007816, -0.036949806213378907, -0.0309893798828125, -0.029012451171875, -0.017545547485351563, -0.022053337097167967, -0.023700981140136718, -0.020186634063720704, -0.014279251098632812, -0.012783079147338868, -0.009726591110229492, -0.010219478607177734, -0.006273984909057617, -0.008698492050170899, -0.010853099822998046, -0.006972875595092774, -0.004703083038330078, -0.007145757675170898, -0.007868671417236328, -0.00535787582397461, -0.009467401504516602, 0.00042633056640625, -0.007550535202026368, -0.006162824630737304, -0.0032217597961425783, -0.0021762752532958982, -0.0021586704254150393, -4.384040832519531e-05, -0.0024476242065429687, -0.003636198043823242, -0.004726829528808593, 0.0004627227783203125, -0.0022898292541503906, -0.0024710178375244142, -0.003081188201904297, -0.001562328338623047, -0.0034238243103027343, -0.002497434616088867, -0.0026622867584228517, -0.0005126762390136719, -0.0020394515991210937, -0.003128719329833984, -0.0036037254333496096, -0.00025089263916015623, -0.0014850616455078125, -0.0015612983703613282, -0.004344835281372071, -0.003620586395263672, -0.003927764892578125, -0.0008447074890136719, -0.0023224449157714846, -0.002854938507080078, -0.005136213302612305, -0.001617765426635742, -0.002317543029785156, -0.000155029296875, -0.0042933464050292965, -0.0009642410278320313, -0.0029895401000976565, -0.0043831348419189455, -0.005321693420410156, -0.0034154415130615234, -0.0015765953063964844, -0.0028859901428222655, -0.004676418304443359, -0.0018232154846191406, -0.0018025970458984376, -0.001979217529296875, -0.005318117141723633, -0.004301433563232422, -0.0004259204864501953, -0.0021862697601318357, -0.0033272266387939452, -0.0013873767852783203, -0.0010977935791015624, -0.0021299648284912108, -0.002063398361206055, -0.001597433090209961, -0.0010395431518554687, -0.0010500717163085937, -0.00302093505859375, -0.0011560630798339844, -0.0011699390411376953, -0.002044868469238281, -0.0037102127075195313, 0.00028867721557617186, -0.0030656719207763673, -0.002191905975341797, -0.0029073143005371093, -0.001583118438720703, -0.004199724197387695, -0.0021630668640136718, -0.0011176776885986328, -0.001706094741821289, -0.0020383739471435546, -0.0035088348388671877, -0.005008420944213867, -0.002379703521728516, -0.00533182144165039, -0.005398597717285156, -0.001514301300048828, -0.004511394500732422, -0.0022129535675048826, -0.007085161209106445, -0.0015494155883789063, -0.0027491188049316405, -0.004274177551269531, -0.005314903259277344, 0.0007183742523193359, -0.004144420623779297, -0.001513051986694336, -0.003312492370605469, -7.569313049316407e-05, -0.0039968395233154295, -0.003075895309448242, -0.005450258255004883, -0.0026669597625732424, -0.005284385681152344, -0.0006303119659423828, -0.0038282012939453124, -0.004681568145751953, -0.002182273864746094, -0.0033650779724121093, -0.0009122657775878907, 0.0030477142333984377, 0.002800178527832031, -0.004153423309326172, -0.004980711936950683, 0.004018955230712891, -0.0017326736450195312, -0.004664039611816407, 0.0020659828186035158, -0.0031508255004882814, -0.004706792831420899, -0.001859736442565918, -0.006579852104187012, 0.0034539604187011717, 0.004236402511596679, 0.001605653762817383, -0.0013471317291259765, 0.0026267337799072265, 0.002502479553222656, 0.0025931644439697267, -0.0021102428436279297, -0.0015082406997680665, -0.004829916954040527, -0.0015376710891723633, 0.012763681411743165, 0.006892642974853516, -0.004107255935668946, 0.0011675453186035156, 0.018026275634765623, 0.01321794033050537, 0.016486549377441408, 0.008918132781982422, 0.019565486907958986, 0.016881732940673827, 0.013483686447143555, 0.019143447875976563, 0.014970908164978028, 0.023944163322448732, 0.026266250610351562, 0.026597423553466795, 0.035494480133056644, 0.06568380355834962, 0.073336181640625, 0.08029030799865723, 0.095696439743042, 0.04438349723815918, 0.036830506324768066, 0.05924558162689209, 0.09691682815551758, 0.07682416915893554, 0.05393589973449707, 0.050958108901977536, 0.04993277549743652, 0.07413219451904297, 0.1074062728881836, 0.08366388320922852, 0.15725317001342773, 0.1276258659362793, 0.11275943756103515, 0.08961146354675292, 0.08093851089477538, 0.07668100357055664, 0.09519001960754395, 0.10724664688110351, 0.10277593612670899, 0.10267692565917969, 0.05065591812133789, 0.11478009223937988, 0.07514345169067382, 0.022780113220214844, 0.023835458755493165, 0.029154253005981446, -0.0009478092193603516, -0.0232977294921875, -0.04550225257873535, -0.013605852127075196, -0.019757680892944336, -0.03505734443664551, -0.055543107986450194, -0.03997316360473633, -0.009637451171875, -0.1001326560974121, -0.09084918022155762, -0.10084952354431152, -0.03985218048095703, -0.057978973388671876, -0.04315619468688965, -0.08428218841552734, -0.1097728157043457, -0.11799880981445313, -0.11483882904052735, -0.06295501708984375, -0.15652653694152832, -0.13433469772338869, -0.07072760581970215, -0.008290662765502929, -0.004647550582885743, -0.023641347885131836, -0.03211761474609375, 0.04484971046447754, 0.09495730400085449, 0.05965092658996582, 0.0020717048645019533, -0.009771270751953125, -0.05161918640136719, -0.0537410831451416, -0.017629289627075197, -0.01213578224182129, 0.003260498046875, -0.0058158493041992184, 0.0032370185852050783, 0.026767778396606445, 0.038240032196044924, 0.03506485939025879, 0.02119466781616211, 0.025558605194091796, -0.010411014556884765, 0.012604742050170899, 0.008051624298095703, -0.004976844787597657, -0.017228975296020507, -0.002774763107299805, -0.0028487205505371093, 0.015127830505371094, -0.06181360244750977, -0.10079959869384765, -0.025175495147705076, 0.11388885498046875]\n",
            "The best Learning Rate is:  0.01227326\n"
          ],
          "name": "stdout"
        }
      ]
    },
    {
      "cell_type": "markdown",
      "metadata": {
        "id": "Ah3hfXmVMKo6",
        "colab_type": "text"
      },
      "source": [
        "## Cyclic Learning Rate"
      ]
    },
    {
      "cell_type": "code",
      "metadata": {
        "id": "qxcwpZw094HB",
        "colab_type": "code",
        "colab": {}
      },
      "source": [
        "from sklearn.metrics import log_loss, roc_auc_score, accuracy_score\n",
        "from tensorflow.keras.losses import binary_crossentropy\n",
        "from tensorflow.keras.metrics import binary_accuracy\n",
        "\n",
        "class CyclicLR(Callback):\n",
        "    \n",
        "    def __init__(self,base_lr, max_lr, step_size, base_m, max_m, cyclical_momentum): \n",
        "        self.base_lr = base_lr\n",
        "        self.max_lr = max_lr\n",
        "        self.base_m = base_m\n",
        "        self.max_m = max_m\n",
        "        self.cyclical_momentum = cyclical_momentum\n",
        "        self.step_size = step_size\n",
        "        \n",
        "        self.clr_iterations = 0.\n",
        "        self.cm_iterations = 0.\n",
        "        self.trn_iterations = 0.\n",
        "        self.history = {}\n",
        "        print(\"On CLR INIT\")\n",
        "        \n",
        "    def clr(self):\n",
        "        # called after every batch                 \n",
        "        cycle = np.floor(1+self.clr_iterations/(2*self.step_size))\n",
        "        \n",
        "        if cycle == 2:\n",
        "            x = np.abs(self.clr_iterations/self.step_size - 2*cycle + 1)          \n",
        "            return self.base_lr-(self.base_lr-self.base_lr/100)*np.maximum(0,(1-x))\n",
        "        \n",
        "        else:\n",
        "            x = np.abs(self.clr_iterations/self.step_size - 2*cycle + 1)\n",
        "            return self.base_lr + (self.max_lr-self.base_lr)*np.maximum(0,(1-x))\n",
        "    \n",
        "    def cm(self):\n",
        "        # called after every batch \n",
        "        cycle = np.floor(1+self.clr_iterations/(2*self.step_size))\n",
        "        \n",
        "        if cycle == 2:\n",
        "            \n",
        "            x = np.abs(self.clr_iterations/self.step_size - 2*cycle + 1) \n",
        "            return self.max_m\n",
        "        \n",
        "        else:\n",
        "            x = np.abs(self.clr_iterations/self.step_size - 2*cycle + 1)\n",
        "            return self.max_m - (self.max_m-self.base_m)*np.maximum(0,(1-x))\n",
        "        \n",
        "        \n",
        "    def on_train_begin(self, logs={}):\n",
        "        print(\"On CLR on_train_begin method\")\n",
        "        logs = logs or {}\n",
        "\n",
        "        if self.clr_iterations == 0:\n",
        "            K.set_value(self.model.optimizer.lr, self.base_lr)\n",
        "        else:\n",
        "            K.set_value(self.model.optimizer.lr, self.clr())\n",
        "            \n",
        "        if self.cyclical_momentum == True:\n",
        "            if self.clr_iterations == 0:\n",
        "                K.set_value(self.model.optimizer.momentum, self.cm())\n",
        "            else:\n",
        "                K.set_value(self.model.optimizer.momentum, self.cm())\n",
        "            \n",
        "            \n",
        "    def on_batch_begin(self, batch, logs=None):\n",
        "        # called after every batch  \n",
        "        logs = logs or {}\n",
        "        self.trn_iterations += 1\n",
        "        self.clr_iterations += 1\n",
        "\n",
        "        self.history.setdefault('lr', []).append(K.get_value(self.model.optimizer.lr))\n",
        "        self.history.setdefault('iterations', []).append(self.trn_iterations)\n",
        "        \n",
        "        if self.cyclical_momentum == True:\n",
        "            self.history.setdefault('momentum', []).append(K.get_value(self.model.optimizer.momentum))\n",
        "\n",
        "        for k, v in logs.items():\n",
        "            self.history.setdefault(k, []).append(v)\n",
        "        \n",
        "        K.set_value(self.model.optimizer.lr, self.clr())\n",
        "        \n",
        "        if self.cyclical_momentum == True:\n",
        "            K.set_value(self.model.optimizer.momentum, self.cm())\n",
        "            "
      ],
      "execution_count": 0,
      "outputs": []
    },
    {
      "cell_type": "markdown",
      "metadata": {
        "id": "7gjgCXh8zviM",
        "colab_type": "text"
      },
      "source": [
        "## Run with Batch size 128 epochs 100\n",
        " \n",
        " * Crop generator\n",
        " * Image augmentation"
      ]
    },
    {
      "cell_type": "markdown",
      "metadata": {
        "id": "0qiwUwOuyIA7",
        "colab_type": "text"
      },
      "source": [
        "Run1:\n",
        "* SGD with Decay\n",
        "* Random crop\n",
        "* Random erasing\n",
        "\n",
        "Run 2:\n",
        "* SGD with Decay\n",
        "* Random crop\n",
        "* height shift range - 0.5\n",
        "* 87\n",
        "\n",
        "Run 3:\n",
        "* Run 2 and \n",
        "* rotation_range=90\n",
        "* 74.6\n",
        "\n",
        "Run 4:\n",
        "* SGD with Decay\n",
        "* Random crop\n",
        "* Random erasing\n",
        "* min LR divide by 2\n",
        "* momentum - 9.8 to 8.8\n",
        "* 88.59\n",
        "\n",
        "Run 5:\n",
        " * Run 4 and\n",
        " * height shift range - 0.5\n",
        " * 87.97\n",
        " \n",
        " \n",
        " Run 6:\n",
        " * Run 5\n",
        " * Remove Weight Decay\n",
        " * 91.53\n",
        " \n",
        " \n",
        "Final Run:\n",
        "* From Run6\n",
        "* Remove Cutout\n",
        "*  92.16"
      ]
    },
    {
      "cell_type": "code",
      "metadata": {
        "id": "-NLGX1I8-o8s",
        "colab_type": "code",
        "outputId": "35ee897d-30b0-48a9-cc24-1e18afd521a3",
        "colab": {
          "base_uri": "https://localhost:8080/",
          "height": 1000
        }
      },
      "source": [
        "# from PIL import Image\n",
        "model = DavidNet()\n",
        "# sgd = SGD(decay=WEIGHT_DECAY)\n",
        "sgd = SGD()\n",
        "\n",
        "model.compile(optimizer=sgd, loss='categorical_crossentropy', metrics=['accuracy'])\n",
        "\n",
        "best_lr = 0.013487148\n",
        "base_lr = best_lr/2\n",
        "max_lr = best_lr*2\n",
        "step_size = 1171\n",
        "\n",
        "max_m = 0.98\n",
        "base_m = 0.88\n",
        "\n",
        "cyclical_momentum = True\n",
        "augment = True\n",
        "cycles = 2.35\n",
        "\n",
        "iterations = round(len(train_features)/BATCH_SIZE*EPOCHS)\n",
        "iterations = list(range(0,iterations+1))\n",
        "step_size = len(iterations)/(cycles)\n",
        "\n",
        "clr =  CyclicLR(base_lr=base_lr,\n",
        "                max_lr=max_lr,\n",
        "                step_size=step_size,\n",
        "                max_m=max_m,\n",
        "                base_m=base_m,\n",
        "                cyclical_momentum=cyclical_momentum)\n",
        "\n",
        "\n",
        "# datagen = ImageDataGenerator(horizontal_flip=True, height_shift_range=0.5, rotation_range=90)\n",
        "datagen = ImageDataGenerator(horizontal_flip=True, height_shift_range=0.5)\n",
        "# datagen = ImageDataGenerator(horizontal_flip=True)\n",
        "\n",
        "steps_per_epoch = train_features.shape[0]/BATCH_SIZE\n",
        "\n",
        "# train the model\n",
        "start = time.time()\n",
        "# Train the model\n",
        "\n",
        "# BATCH_SIZE = 1 # TODO : REMOVE\n",
        "# crop_length = 32\n",
        "# filepath = r'/content/drive/My Drive/EVA-MachineLearning/'\n",
        "# train_data = datagen.flow(train_features, train_labels, batch_size = BATCH_SIZE, save_to_dir=filepath, save_prefix=\"image\", save_format=\"jpg\")\n",
        "train_data = datagen.flow(train_features, train_labels, batch_size = BATCH_SIZE)\n",
        "\n",
        "\n",
        "train_crops = crop_generator(train_data, 32)\n",
        "print(train_crops)\n",
        "\n",
        "model_info = model.fit_generator(train_crops, \n",
        "                                      steps_per_epoch = steps_per_epoch, epochs=EPOCHS,\n",
        "                                      validation_data=(test_features, test_labels), verbose=1,\n",
        "                                    callbacks=[clr])\n",
        "end = time.time()\n",
        "print (\"Model took %0.2f seconds to train\"%(end - start))\n",
        "\n",
        "# compute test accuracy\n",
        "print (\"Accuracy on test data is: %0.2f\"%accuracy(test_features, test_labels, model))"
      ],
      "execution_count": 0,
      "outputs": [
        {
          "output_type": "stream",
          "text": [
            "On CLR INIT\n",
            "<generator object crop_generator at 0x7fcc3026c938>\n",
            "On CLR on_train_begin method\n",
            "Epoch 1/100\n",
            "391/390 [==============================] - 73s 188ms/step - loss: 2.0387 - acc: 0.3082 - val_loss: 1.7650 - val_acc: 0.3759\n",
            "Epoch 2/100\n",
            "391/390 [==============================] - 71s 183ms/step - loss: 1.6443 - acc: 0.4188 - val_loss: 1.4663 - val_acc: 0.4816\n",
            "Epoch 3/100\n",
            "391/390 [==============================] - 72s 183ms/step - loss: 1.4807 - acc: 0.4756 - val_loss: 1.4417 - val_acc: 0.4987\n",
            "Epoch 4/100\n",
            "391/390 [==============================] - 72s 183ms/step - loss: 1.3508 - acc: 0.5213 - val_loss: 1.4838 - val_acc: 0.5054\n",
            "Epoch 5/100\n",
            "391/390 [==============================] - 72s 183ms/step - loss: 1.2780 - acc: 0.5509 - val_loss: 1.2785 - val_acc: 0.5604\n",
            "Epoch 6/100\n",
            "391/390 [==============================] - 71s 183ms/step - loss: 1.1882 - acc: 0.5820 - val_loss: 1.2675 - val_acc: 0.5955\n",
            "Epoch 7/100\n",
            "391/390 [==============================] - 71s 183ms/step - loss: 1.1308 - acc: 0.6028 - val_loss: 1.3509 - val_acc: 0.5679\n",
            "Epoch 8/100\n",
            "391/390 [==============================] - 72s 183ms/step - loss: 1.0782 - acc: 0.6229 - val_loss: 1.4273 - val_acc: 0.5856\n",
            "Epoch 9/100\n",
            "391/390 [==============================] - 72s 183ms/step - loss: 1.0469 - acc: 0.6374 - val_loss: 1.3254 - val_acc: 0.6511\n",
            "Epoch 10/100\n",
            "391/390 [==============================] - 72s 183ms/step - loss: 0.9915 - acc: 0.6526 - val_loss: 0.7938 - val_acc: 0.7324\n",
            "Epoch 11/100\n",
            "391/390 [==============================] - 72s 183ms/step - loss: 0.9751 - acc: 0.6638 - val_loss: 0.9349 - val_acc: 0.7059\n",
            "Epoch 12/100\n",
            "391/390 [==============================] - 72s 183ms/step - loss: 0.9427 - acc: 0.6733 - val_loss: 0.8096 - val_acc: 0.7405\n",
            "Epoch 13/100\n",
            "391/390 [==============================] - 72s 183ms/step - loss: 0.9014 - acc: 0.6908 - val_loss: 0.9597 - val_acc: 0.6830\n",
            "Epoch 14/100\n",
            "391/390 [==============================] - 71s 183ms/step - loss: 0.8800 - acc: 0.6984 - val_loss: 1.2075 - val_acc: 0.6433\n",
            "Epoch 15/100\n",
            "391/390 [==============================] - 72s 183ms/step - loss: 0.8685 - acc: 0.7024 - val_loss: 1.0266 - val_acc: 0.7023\n",
            "Epoch 16/100\n",
            "391/390 [==============================] - 72s 183ms/step - loss: 0.8259 - acc: 0.7154 - val_loss: 0.9910 - val_acc: 0.7205\n",
            "Epoch 17/100\n",
            "391/390 [==============================] - 72s 183ms/step - loss: 0.8120 - acc: 0.7205 - val_loss: 1.0974 - val_acc: 0.6711\n",
            "Epoch 18/100\n",
            "391/390 [==============================] - 71s 183ms/step - loss: 0.8058 - acc: 0.7240 - val_loss: 0.7477 - val_acc: 0.7567\n",
            "Epoch 19/100\n",
            "391/390 [==============================] - 72s 184ms/step - loss: 0.7759 - acc: 0.7338 - val_loss: 0.7184 - val_acc: 0.7648\n",
            "Epoch 20/100\n",
            "391/390 [==============================] - 72s 183ms/step - loss: 0.7713 - acc: 0.7383 - val_loss: 0.8300 - val_acc: 0.7534\n",
            "Epoch 21/100\n",
            "391/390 [==============================] - 72s 183ms/step - loss: 0.7411 - acc: 0.7466 - val_loss: 0.6782 - val_acc: 0.7690\n",
            "Epoch 22/100\n",
            "391/390 [==============================] - 72s 183ms/step - loss: 0.7320 - acc: 0.7480 - val_loss: 0.9119 - val_acc: 0.7153\n",
            "Epoch 23/100\n",
            "391/390 [==============================] - 71s 183ms/step - loss: 0.7126 - acc: 0.7566 - val_loss: 0.7469 - val_acc: 0.7539\n",
            "Epoch 24/100\n",
            "391/390 [==============================] - 71s 183ms/step - loss: 0.7055 - acc: 0.7591 - val_loss: 0.5428 - val_acc: 0.8133\n",
            "Epoch 25/100\n",
            "391/390 [==============================] - 72s 183ms/step - loss: 0.6788 - acc: 0.7675 - val_loss: 0.6105 - val_acc: 0.8000\n",
            "Epoch 26/100\n",
            "391/390 [==============================] - 71s 183ms/step - loss: 0.6738 - acc: 0.7696 - val_loss: 0.8592 - val_acc: 0.7802\n",
            "Epoch 27/100\n",
            "391/390 [==============================] - 71s 183ms/step - loss: 0.6666 - acc: 0.7730 - val_loss: 0.5619 - val_acc: 0.8204\n",
            "Epoch 28/100\n",
            "391/390 [==============================] - 72s 183ms/step - loss: 0.6526 - acc: 0.7793 - val_loss: 0.8751 - val_acc: 0.7555\n",
            "Epoch 29/100\n",
            "391/390 [==============================] - 71s 183ms/step - loss: 0.6459 - acc: 0.7782 - val_loss: 0.4793 - val_acc: 0.8452\n",
            "Epoch 30/100\n",
            "391/390 [==============================] - 72s 183ms/step - loss: 0.6295 - acc: 0.7859 - val_loss: 0.9104 - val_acc: 0.7683\n",
            "Epoch 31/100\n",
            "391/390 [==============================] - 71s 183ms/step - loss: 0.6294 - acc: 0.7851 - val_loss: 0.6260 - val_acc: 0.8090\n",
            "Epoch 32/100\n",
            "391/390 [==============================] - 72s 183ms/step - loss: 0.6190 - acc: 0.7904 - val_loss: 0.7198 - val_acc: 0.7890\n",
            "Epoch 33/100\n",
            "391/390 [==============================] - 72s 183ms/step - loss: 0.6051 - acc: 0.7938 - val_loss: 0.5140 - val_acc: 0.8354\n",
            "Epoch 34/100\n",
            "391/390 [==============================] - 72s 183ms/step - loss: 0.5819 - acc: 0.8004 - val_loss: 0.6361 - val_acc: 0.8098\n",
            "Epoch 35/100\n",
            "391/390 [==============================] - 72s 183ms/step - loss: 0.5809 - acc: 0.8005 - val_loss: 0.4886 - val_acc: 0.8399\n",
            "Epoch 36/100\n",
            "391/390 [==============================] - 72s 183ms/step - loss: 0.5717 - acc: 0.8052 - val_loss: 0.5398 - val_acc: 0.8368\n",
            "Epoch 37/100\n",
            "391/390 [==============================] - 72s 183ms/step - loss: 0.5687 - acc: 0.8052 - val_loss: 0.7994 - val_acc: 0.7805\n",
            "Epoch 38/100\n",
            "391/390 [==============================] - 72s 183ms/step - loss: 0.5518 - acc: 0.8103 - val_loss: 0.5990 - val_acc: 0.8191\n",
            "Epoch 39/100\n",
            "391/390 [==============================] - 72s 183ms/step - loss: 0.5442 - acc: 0.8139 - val_loss: 0.6253 - val_acc: 0.8216\n",
            "Epoch 40/100\n",
            "391/390 [==============================] - 72s 183ms/step - loss: 0.5396 - acc: 0.8160 - val_loss: 0.6233 - val_acc: 0.8138\n",
            "Epoch 41/100\n",
            "391/390 [==============================] - 71s 183ms/step - loss: 0.5192 - acc: 0.8215 - val_loss: 0.9732 - val_acc: 0.7585\n",
            "Epoch 42/100\n",
            "391/390 [==============================] - 72s 183ms/step - loss: 0.5186 - acc: 0.8211 - val_loss: 0.7784 - val_acc: 0.7866\n",
            "Epoch 43/100\n",
            "391/390 [==============================] - 72s 183ms/step - loss: 0.5072 - acc: 0.8259 - val_loss: 0.7422 - val_acc: 0.7707\n",
            "Epoch 44/100\n",
            "391/390 [==============================] - 72s 183ms/step - loss: 0.5015 - acc: 0.8269 - val_loss: 0.4421 - val_acc: 0.8664\n",
            "Epoch 45/100\n",
            "391/390 [==============================] - 72s 183ms/step - loss: 0.4724 - acc: 0.8369 - val_loss: 0.5797 - val_acc: 0.8204\n",
            "Epoch 46/100\n",
            "391/390 [==============================] - 71s 183ms/step - loss: 0.4548 - acc: 0.8436 - val_loss: 0.6257 - val_acc: 0.8147\n",
            "Epoch 47/100\n",
            "391/390 [==============================] - 72s 183ms/step - loss: 0.4408 - acc: 0.8454 - val_loss: 0.7067 - val_acc: 0.7974\n",
            "Epoch 48/100\n",
            "391/390 [==============================] - 72s 184ms/step - loss: 0.4364 - acc: 0.8489 - val_loss: 0.4321 - val_acc: 0.8687\n",
            "Epoch 49/100\n",
            "391/390 [==============================] - 72s 183ms/step - loss: 0.4178 - acc: 0.8550 - val_loss: 0.4278 - val_acc: 0.8709\n",
            "Epoch 50/100\n",
            "391/390 [==============================] - 72s 183ms/step - loss: 0.4050 - acc: 0.8582 - val_loss: 0.4870 - val_acc: 0.8565\n",
            "Epoch 51/100\n",
            "391/390 [==============================] - 72s 183ms/step - loss: 0.3934 - acc: 0.8639 - val_loss: 0.3918 - val_acc: 0.8754\n",
            "Epoch 52/100\n",
            "391/390 [==============================] - 72s 183ms/step - loss: 0.3856 - acc: 0.8634 - val_loss: 0.3645 - val_acc: 0.8841\n",
            "Epoch 53/100\n",
            "391/390 [==============================] - 72s 184ms/step - loss: 0.3705 - acc: 0.8685 - val_loss: 0.3473 - val_acc: 0.8911\n",
            "Epoch 54/100\n",
            "391/390 [==============================] - 72s 184ms/step - loss: 0.3676 - acc: 0.8711 - val_loss: 0.3465 - val_acc: 0.8908\n",
            "Epoch 55/100\n",
            "391/390 [==============================] - 71s 183ms/step - loss: 0.3598 - acc: 0.8734 - val_loss: 0.3630 - val_acc: 0.8866\n",
            "Epoch 56/100\n",
            "391/390 [==============================] - 72s 183ms/step - loss: 0.3523 - acc: 0.8774 - val_loss: 0.3855 - val_acc: 0.8828\n",
            "Epoch 57/100\n",
            "391/390 [==============================] - 72s 183ms/step - loss: 0.3328 - acc: 0.8848 - val_loss: 0.3984 - val_acc: 0.8789\n",
            "Epoch 58/100\n",
            "391/390 [==============================] - 72s 183ms/step - loss: 0.3324 - acc: 0.8843 - val_loss: 0.3325 - val_acc: 0.8976\n",
            "Epoch 59/100\n",
            "391/390 [==============================] - 72s 183ms/step - loss: 0.3298 - acc: 0.8833 - val_loss: 0.4033 - val_acc: 0.8804\n",
            "Epoch 60/100\n",
            "391/390 [==============================] - 72s 183ms/step - loss: 0.3210 - acc: 0.8886 - val_loss: 0.3688 - val_acc: 0.8918\n",
            "Epoch 61/100\n",
            "391/390 [==============================] - 72s 183ms/step - loss: 0.3144 - acc: 0.8899 - val_loss: 0.4688 - val_acc: 0.8631\n",
            "Epoch 62/100\n",
            "391/390 [==============================] - 72s 183ms/step - loss: 0.3103 - acc: 0.8928 - val_loss: 0.3624 - val_acc: 0.8905\n",
            "Epoch 63/100\n",
            "391/390 [==============================] - 72s 183ms/step - loss: 0.3002 - acc: 0.8926 - val_loss: 0.3209 - val_acc: 0.9035\n",
            "Epoch 64/100\n",
            "391/390 [==============================] - 72s 184ms/step - loss: 0.2891 - acc: 0.8991 - val_loss: 0.3117 - val_acc: 0.9012\n",
            "Epoch 65/100\n",
            "391/390 [==============================] - 72s 183ms/step - loss: 0.2817 - acc: 0.9019 - val_loss: 0.3405 - val_acc: 0.8971\n",
            "Epoch 66/100\n",
            "391/390 [==============================] - 72s 183ms/step - loss: 0.2773 - acc: 0.9039 - val_loss: 0.2984 - val_acc: 0.9044\n",
            "Epoch 67/100\n",
            "391/390 [==============================] - 72s 183ms/step - loss: 0.2693 - acc: 0.9064 - val_loss: 0.3084 - val_acc: 0.9061\n",
            "Epoch 68/100\n",
            "391/390 [==============================] - 72s 184ms/step - loss: 0.2688 - acc: 0.9053 - val_loss: 0.3729 - val_acc: 0.8903\n",
            "Epoch 69/100\n",
            "391/390 [==============================] - 72s 183ms/step - loss: 0.2638 - acc: 0.9076 - val_loss: 0.3400 - val_acc: 0.8951\n",
            "Epoch 70/100\n",
            "391/390 [==============================] - 72s 184ms/step - loss: 0.2568 - acc: 0.9107 - val_loss: 0.3108 - val_acc: 0.9053\n",
            "Epoch 71/100\n",
            "391/390 [==============================] - 72s 183ms/step - loss: 0.2515 - acc: 0.9126 - val_loss: 0.3047 - val_acc: 0.9077\n",
            "Epoch 72/100\n",
            "391/390 [==============================] - 72s 183ms/step - loss: 0.2538 - acc: 0.9112 - val_loss: 0.3000 - val_acc: 0.9065\n",
            "Epoch 73/100\n",
            "391/390 [==============================] - 72s 183ms/step - loss: 0.2464 - acc: 0.9149 - val_loss: 0.3237 - val_acc: 0.9017\n",
            "Epoch 74/100\n",
            "391/390 [==============================] - 72s 184ms/step - loss: 0.2377 - acc: 0.9173 - val_loss: 0.3209 - val_acc: 0.9043\n",
            "Epoch 75/100\n",
            "391/390 [==============================] - 72s 183ms/step - loss: 0.2337 - acc: 0.9180 - val_loss: 0.2954 - val_acc: 0.9074\n",
            "Epoch 76/100\n",
            "391/390 [==============================] - 72s 184ms/step - loss: 0.2322 - acc: 0.9195 - val_loss: 0.2897 - val_acc: 0.9141\n",
            "Epoch 77/100\n",
            "391/390 [==============================] - 72s 184ms/step - loss: 0.2269 - acc: 0.9210 - val_loss: 0.2838 - val_acc: 0.9128\n",
            "Epoch 78/100\n",
            "391/390 [==============================] - 72s 183ms/step - loss: 0.2220 - acc: 0.9239 - val_loss: 0.2899 - val_acc: 0.9112\n",
            "Epoch 79/100\n",
            "391/390 [==============================] - 72s 183ms/step - loss: 0.2244 - acc: 0.9227 - val_loss: 0.2869 - val_acc: 0.9128\n",
            "Epoch 80/100\n",
            "391/390 [==============================] - 72s 183ms/step - loss: 0.2191 - acc: 0.9232 - val_loss: 0.3014 - val_acc: 0.9103\n",
            "Epoch 81/100\n",
            "391/390 [==============================] - 72s 184ms/step - loss: 0.2046 - acc: 0.9296 - val_loss: 0.2769 - val_acc: 0.9160\n",
            "Epoch 82/100\n",
            "391/390 [==============================] - 72s 183ms/step - loss: 0.2068 - acc: 0.9289 - val_loss: 0.2919 - val_acc: 0.9122\n",
            "Epoch 83/100\n",
            "391/390 [==============================] - 72s 183ms/step - loss: 0.1956 - acc: 0.9329 - val_loss: 0.2853 - val_acc: 0.9125\n",
            "Epoch 84/100\n",
            "391/390 [==============================] - 72s 183ms/step - loss: 0.2033 - acc: 0.9303 - val_loss: 0.2866 - val_acc: 0.9128\n",
            "Epoch 85/100\n",
            "391/390 [==============================] - 72s 184ms/step - loss: 0.1917 - acc: 0.9349 - val_loss: 0.2772 - val_acc: 0.9172\n",
            "Epoch 86/100\n",
            "391/390 [==============================] - 72s 184ms/step - loss: 0.1928 - acc: 0.9338 - val_loss: 0.2742 - val_acc: 0.9176\n",
            "Epoch 87/100\n",
            "391/390 [==============================] - 72s 183ms/step - loss: 0.1939 - acc: 0.9335 - val_loss: 0.2802 - val_acc: 0.9159\n",
            "Epoch 88/100\n",
            "391/390 [==============================] - 72s 183ms/step - loss: 0.1857 - acc: 0.9367 - val_loss: 0.2749 - val_acc: 0.9185\n",
            "Epoch 89/100\n",
            "391/390 [==============================] - 72s 183ms/step - loss: 0.1850 - acc: 0.9368 - val_loss: 0.2794 - val_acc: 0.9183\n",
            "Epoch 90/100\n",
            "391/390 [==============================] - 72s 184ms/step - loss: 0.1829 - acc: 0.9373 - val_loss: 0.2810 - val_acc: 0.9185\n",
            "Epoch 91/100\n",
            "391/390 [==============================] - 72s 183ms/step - loss: 0.1827 - acc: 0.9385 - val_loss: 0.2835 - val_acc: 0.9160\n",
            "Epoch 92/100\n",
            "391/390 [==============================] - 72s 183ms/step - loss: 0.1785 - acc: 0.9391 - val_loss: 0.2724 - val_acc: 0.9193\n",
            "Epoch 93/100\n",
            "391/390 [==============================] - 72s 184ms/step - loss: 0.1785 - acc: 0.9385 - val_loss: 0.2786 - val_acc: 0.9185\n",
            "Epoch 94/100\n",
            "391/390 [==============================] - 72s 184ms/step - loss: 0.1780 - acc: 0.9397 - val_loss: 0.2711 - val_acc: 0.9222\n",
            "Epoch 95/100\n",
            "391/390 [==============================] - 72s 183ms/step - loss: 0.1725 - acc: 0.9414 - val_loss: 0.2768 - val_acc: 0.9205\n",
            "Epoch 96/100\n",
            "391/390 [==============================] - 72s 183ms/step - loss: 0.1748 - acc: 0.9403 - val_loss: 0.2756 - val_acc: 0.9197\n",
            "Epoch 97/100\n",
            "391/390 [==============================] - 72s 183ms/step - loss: 0.1713 - acc: 0.9422 - val_loss: 0.2860 - val_acc: 0.9198\n",
            "Epoch 98/100\n",
            "391/390 [==============================] - 72s 183ms/step - loss: 0.1706 - acc: 0.9424 - val_loss: 0.2729 - val_acc: 0.9216\n",
            "Epoch 99/100\n",
            "391/390 [==============================] - 72s 183ms/step - loss: 0.1693 - acc: 0.9426 - val_loss: 0.2715 - val_acc: 0.9210\n",
            "Epoch 100/100\n",
            "391/390 [==============================] - 72s 183ms/step - loss: 0.1694 - acc: 0.9428 - val_loss: 0.2717 - val_acc: 0.9207\n",
            "Model took 7167.70 seconds to train\n",
            "Accuracy on test data is: 92.07\n"
          ],
          "name": "stdout"
        }
      ]
    },
    {
      "cell_type": "code",
      "metadata": {
        "id": "qeH8dsnxFuYK",
        "colab_type": "code",
        "outputId": "819f9dcd-1af1-449a-f4c1-d0e87cea2873",
        "colab": {
          "base_uri": "https://localhost:8080/",
          "height": 295
        }
      },
      "source": [
        "# Plot Learning Rate\n",
        "\n",
        "import matplotlib.pyplot as plt\n",
        "plt.plot(clr.history['iterations'], clr.history['lr'])\n",
        "plt.xlabel('Training Iterations')\n",
        "plt.ylabel('Learning Rate')\n",
        "plt.title(\"One Cycle Policy\")\n",
        "plt.show()"
      ],
      "execution_count": 0,
      "outputs": [
        {
          "output_type": "display_data",
          "data": {
            "image/png": "[encoded data removed]",
            "text/plain": [
              "<Figure size 432x288 with 1 Axes>"
            ]
          },
          "metadata": {
            "tags": []
          }
        }
      ]
    },
    {
      "cell_type": "code",
      "metadata": {
        "id": "iRaccdDZF2ZC",
        "colab_type": "code",
        "outputId": "60ba2f9f-e171-459a-fa7f-533ea52f66b8",
        "colab": {
          "base_uri": "https://localhost:8080/",
          "height": 295
        }
      },
      "source": [
        "# Plot momentum\n",
        "\n",
        "plt.plot(clr.history['iterations'], clr.history['momentum'])\n",
        "plt.xlabel('Training Iterations')\n",
        "plt.ylabel('Momentum')\n",
        "plt.title(\"One Cycle Policy\")\n",
        "plt.show()"
      ],
      "execution_count": 0,
      "outputs": [
        {
          "output_type": "display_data",
          "data": {
            "image/png": "[encoded data removed]",
            "text/plain": [
              "<Figure size 432x288 with 1 Axes>"
            ]
          },
          "metadata": {
            "tags": []
          }
        }
      ]
    }
  ]
}